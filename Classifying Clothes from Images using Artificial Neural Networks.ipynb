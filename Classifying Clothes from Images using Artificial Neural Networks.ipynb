{
 "cells": [
  {
   "cell_type": "markdown",
   "id": "382fdff0",
   "metadata": {},
   "source": [
    "# Classifying Clothes from Images using artificial neural networks"
   ]
  },
  {
   "cell_type": "code",
   "execution_count": 91,
   "id": "e52753f7",
   "metadata": {},
   "outputs": [],
   "source": [
    "import tensorflow as tf\n",
    "from tensorflow import keras\n",
    "import matplotlib.pyplot as plt\n",
    "import numpy as np"
   ]
  },
  {
   "cell_type": "code",
   "execution_count": 92,
   "id": "370115fd",
   "metadata": {},
   "outputs": [],
   "source": [
    "#Download the dataset from https://keras.io/api/datasets/fashion_mnist/\n",
    "(X_train, y_train), (X_test, y_test) = tf.keras.datasets.fashion_mnist.load_data()"
   ]
  },
  {
   "cell_type": "code",
   "execution_count": 93,
   "id": "78acf5aa",
   "metadata": {},
   "outputs": [
    {
     "data": {
      "text/plain": [
       "(60000, 28, 28)"
      ]
     },
     "execution_count": 93,
     "metadata": {},
     "output_type": "execute_result"
    }
   ],
   "source": [
    "X_train.shape"
   ]
  },
  {
   "cell_type": "code",
   "execution_count": 94,
   "id": "e1e3ad9a",
   "metadata": {},
   "outputs": [
    {
     "data": {
      "text/plain": [
       "(10000, 28, 28)"
      ]
     },
     "execution_count": 94,
     "metadata": {},
     "output_type": "execute_result"
    }
   ],
   "source": [
    "X_test.shape"
   ]
  },
  {
   "cell_type": "code",
   "execution_count": 95,
   "id": "c5b04819",
   "metadata": {},
   "outputs": [
    {
     "data": {
      "text/plain": [
       "array([[  0,   0,   0,   0,   0,   0,   0,   0,   0,   0,   0,   0,   0,\n",
       "          0,   0,   0,   0,   0,   0,   0,   0,   0,   0,   0,   0,   0,\n",
       "          0,   0],\n",
       "       [  0,   0,   0,   0,   0,   0,   0,   0,   0,   0,   0,   0,   0,\n",
       "          0,   0,   0,   0,   0,   0,   0,   0,   0,   0,   0,   0,   0,\n",
       "          0,   0],\n",
       "       [  0,   0,   0,   0,   0,   0,   0,   0,   0,   0,   0,   0,   0,\n",
       "          0,   0,   0,   0,   0,   0,   0,   0,   0,   0,   0,   0,   0,\n",
       "          0,   0],\n",
       "       [  0,   0,   0,   0,   0,   0,   0,   0,   0,   0,   0,   0,   1,\n",
       "          0,   0,  13,  73,   0,   0,   1,   4,   0,   0,   0,   0,   1,\n",
       "          1,   0],\n",
       "       [  0,   0,   0,   0,   0,   0,   0,   0,   0,   0,   0,   0,   3,\n",
       "          0,  36, 136, 127,  62,  54,   0,   0,   0,   1,   3,   4,   0,\n",
       "          0,   3],\n",
       "       [  0,   0,   0,   0,   0,   0,   0,   0,   0,   0,   0,   0,   6,\n",
       "          0, 102, 204, 176, 134, 144, 123,  23,   0,   0,   0,   0,  12,\n",
       "         10,   0],\n",
       "       [  0,   0,   0,   0,   0,   0,   0,   0,   0,   0,   0,   0,   0,\n",
       "          0, 155, 236, 207, 178, 107, 156, 161, 109,  64,  23,  77, 130,\n",
       "         72,  15],\n",
       "       [  0,   0,   0,   0,   0,   0,   0,   0,   0,   0,   0,   1,   0,\n",
       "         69, 207, 223, 218, 216, 216, 163, 127, 121, 122, 146, 141,  88,\n",
       "        172,  66],\n",
       "       [  0,   0,   0,   0,   0,   0,   0,   0,   0,   1,   1,   1,   0,\n",
       "        200, 232, 232, 233, 229, 223, 223, 215, 213, 164, 127, 123, 196,\n",
       "        229,   0],\n",
       "       [  0,   0,   0,   0,   0,   0,   0,   0,   0,   0,   0,   0,   0,\n",
       "        183, 225, 216, 223, 228, 235, 227, 224, 222, 224, 221, 223, 245,\n",
       "        173,   0],\n",
       "       [  0,   0,   0,   0,   0,   0,   0,   0,   0,   0,   0,   0,   0,\n",
       "        193, 228, 218, 213, 198, 180, 212, 210, 211, 213, 223, 220, 243,\n",
       "        202,   0],\n",
       "       [  0,   0,   0,   0,   0,   0,   0,   0,   0,   1,   3,   0,  12,\n",
       "        219, 220, 212, 218, 192, 169, 227, 208, 218, 224, 212, 226, 197,\n",
       "        209,  52],\n",
       "       [  0,   0,   0,   0,   0,   0,   0,   0,   0,   0,   6,   0,  99,\n",
       "        244, 222, 220, 218, 203, 198, 221, 215, 213, 222, 220, 245, 119,\n",
       "        167,  56],\n",
       "       [  0,   0,   0,   0,   0,   0,   0,   0,   0,   4,   0,   0,  55,\n",
       "        236, 228, 230, 228, 240, 232, 213, 218, 223, 234, 217, 217, 209,\n",
       "         92,   0],\n",
       "       [  0,   0,   1,   4,   6,   7,   2,   0,   0,   0,   0,   0, 237,\n",
       "        226, 217, 223, 222, 219, 222, 221, 216, 223, 229, 215, 218, 255,\n",
       "         77,   0],\n",
       "       [  0,   3,   0,   0,   0,   0,   0,   0,   0,  62, 145, 204, 228,\n",
       "        207, 213, 221, 218, 208, 211, 218, 224, 223, 219, 215, 224, 244,\n",
       "        159,   0],\n",
       "       [  0,   0,   0,   0,  18,  44,  82, 107, 189, 228, 220, 222, 217,\n",
       "        226, 200, 205, 211, 230, 224, 234, 176, 188, 250, 248, 233, 238,\n",
       "        215,   0],\n",
       "       [  0,  57, 187, 208, 224, 221, 224, 208, 204, 214, 208, 209, 200,\n",
       "        159, 245, 193, 206, 223, 255, 255, 221, 234, 221, 211, 220, 232,\n",
       "        246,   0],\n",
       "       [  3, 202, 228, 224, 221, 211, 211, 214, 205, 205, 205, 220, 240,\n",
       "         80, 150, 255, 229, 221, 188, 154, 191, 210, 204, 209, 222, 228,\n",
       "        225,   0],\n",
       "       [ 98, 233, 198, 210, 222, 229, 229, 234, 249, 220, 194, 215, 217,\n",
       "        241,  65,  73, 106, 117, 168, 219, 221, 215, 217, 223, 223, 224,\n",
       "        229,  29],\n",
       "       [ 75, 204, 212, 204, 193, 205, 211, 225, 216, 185, 197, 206, 198,\n",
       "        213, 240, 195, 227, 245, 239, 223, 218, 212, 209, 222, 220, 221,\n",
       "        230,  67],\n",
       "       [ 48, 203, 183, 194, 213, 197, 185, 190, 194, 192, 202, 214, 219,\n",
       "        221, 220, 236, 225, 216, 199, 206, 186, 181, 177, 172, 181, 205,\n",
       "        206, 115],\n",
       "       [  0, 122, 219, 193, 179, 171, 183, 196, 204, 210, 213, 207, 211,\n",
       "        210, 200, 196, 194, 191, 195, 191, 198, 192, 176, 156, 167, 177,\n",
       "        210,  92],\n",
       "       [  0,   0,  74, 189, 212, 191, 175, 172, 175, 181, 185, 188, 189,\n",
       "        188, 193, 198, 204, 209, 210, 210, 211, 188, 188, 194, 192, 216,\n",
       "        170,   0],\n",
       "       [  2,   0,   0,   0,  66, 200, 222, 237, 239, 242, 246, 243, 244,\n",
       "        221, 220, 193, 191, 179, 182, 182, 181, 176, 166, 168,  99,  58,\n",
       "          0,   0],\n",
       "       [  0,   0,   0,   0,   0,   0,   0,  40,  61,  44,  72,  41,  35,\n",
       "          0,   0,   0,   0,   0,   0,   0,   0,   0,   0,   0,   0,   0,\n",
       "          0,   0],\n",
       "       [  0,   0,   0,   0,   0,   0,   0,   0,   0,   0,   0,   0,   0,\n",
       "          0,   0,   0,   0,   0,   0,   0,   0,   0,   0,   0,   0,   0,\n",
       "          0,   0],\n",
       "       [  0,   0,   0,   0,   0,   0,   0,   0,   0,   0,   0,   0,   0,\n",
       "          0,   0,   0,   0,   0,   0,   0,   0,   0,   0,   0,   0,   0,\n",
       "          0,   0]], dtype=uint8)"
      ]
     },
     "execution_count": 95,
     "metadata": {},
     "output_type": "execute_result"
    }
   ],
   "source": [
    "X_train[0]"
   ]
  },
  {
   "cell_type": "code",
   "execution_count": 96,
   "id": "0b27ab6a",
   "metadata": {},
   "outputs": [
    {
     "data": {
      "text/plain": [
       "array([9, 0, 0, ..., 3, 0, 5], dtype=uint8)"
      ]
     },
     "execution_count": 96,
     "metadata": {},
     "output_type": "execute_result"
    }
   ],
   "source": [
    "y_train"
   ]
  },
  {
   "cell_type": "code",
   "execution_count": 97,
   "id": "9e697f13",
   "metadata": {},
   "outputs": [
    {
     "data": {
      "text/plain": [
       "array([9, 2, 1, ..., 8, 1, 5], dtype=uint8)"
      ]
     },
     "execution_count": 97,
     "metadata": {},
     "output_type": "execute_result"
    }
   ],
   "source": [
    "y_test"
   ]
  },
  {
   "cell_type": "code",
   "execution_count": 98,
   "id": "d4b26e25",
   "metadata": {},
   "outputs": [
    {
     "name": "stdout",
     "output_type": "stream",
     "text": [
      "9\n"
     ]
    },
    {
     "data": {
      "image/png": "[encoded data removed]",
      "text/plain": [
       "<Figure size 432x288 with 1 Axes>"
      ]
     },
     "metadata": {
      "needs_background": "light"
     },
     "output_type": "display_data"
    }
   ],
   "source": [
    "plt.imshow(X_train[0])\n",
    "print(y_train[0])\n",
    "plt.axis('off');"
   ]
  },
  {
   "cell_type": "code",
   "execution_count": 99,
   "id": "a8bd17dd",
   "metadata": {},
   "outputs": [
    {
     "name": "stdout",
     "output_type": "stream",
     "text": [
      "0\n"
     ]
    },
    {
     "data": {
      "image/png": "[encoded data removed]",
      "text/plain": [
       "<Figure size 432x288 with 1 Axes>"
      ]
     },
     "metadata": {
      "needs_background": "light"
     },
     "output_type": "display_data"
    }
   ],
   "source": [
    "plt.imshow(X_train[2])\n",
    "print(y_train[2])\n",
    "plt.axis('off');"
   ]
  },
  {
   "cell_type": "code",
   "execution_count": 100,
   "id": "a36b5923",
   "metadata": {},
   "outputs": [
    {
     "data": {
      "text/plain": [
       "255"
      ]
     },
     "execution_count": 100,
     "metadata": {},
     "output_type": "execute_result"
    }
   ],
   "source": [
    "X_train.max()"
   ]
  },
  {
   "cell_type": "code",
   "execution_count": 101,
   "id": "5595b5f7",
   "metadata": {},
   "outputs": [],
   "source": [
    "X_train = X_train/255\n",
    "X_test = X_test/255"
   ]
  },
  {
   "cell_type": "code",
   "execution_count": 102,
   "id": "fd40a443",
   "metadata": {},
   "outputs": [
    {
     "data": {
      "text/plain": [
       "array([[0.        , 0.        , 0.        , 0.        , 0.        ,\n",
       "        0.        , 0.        , 0.        , 0.        , 0.        ,\n",
       "        0.        , 0.        , 0.        , 0.        , 0.        ,\n",
       "        0.        , 0.        , 0.        , 0.        , 0.        ,\n",
       "        0.        , 0.        , 0.        , 0.        , 0.        ,\n",
       "        0.        , 0.        , 0.        ],\n",
       "       [0.        , 0.        , 0.        , 0.        , 0.        ,\n",
       "        0.        , 0.        , 0.        , 0.        , 0.        ,\n",
       "        0.        , 0.        , 0.        , 0.        , 0.        ,\n",
       "        0.        , 0.        , 0.        , 0.        , 0.        ,\n",
       "        0.        , 0.        , 0.        , 0.        , 0.        ,\n",
       "        0.        , 0.        , 0.        ],\n",
       "       [0.        , 0.        , 0.        , 0.        , 0.        ,\n",
       "        0.        , 0.        , 0.        , 0.        , 0.        ,\n",
       "        0.        , 0.        , 0.        , 0.        , 0.        ,\n",
       "        0.        , 0.        , 0.        , 0.        , 0.        ,\n",
       "        0.        , 0.        , 0.        , 0.        , 0.        ,\n",
       "        0.        , 0.        , 0.        ],\n",
       "       [0.        , 0.        , 0.        , 0.        , 0.        ,\n",
       "        0.        , 0.        , 0.        , 0.        , 0.        ,\n",
       "        0.        , 0.        , 0.00392157, 0.        , 0.        ,\n",
       "        0.05098039, 0.28627451, 0.        , 0.        , 0.00392157,\n",
       "        0.01568627, 0.        , 0.        , 0.        , 0.        ,\n",
       "        0.00392157, 0.00392157, 0.        ],\n",
       "       [0.        , 0.        , 0.        , 0.        , 0.        ,\n",
       "        0.        , 0.        , 0.        , 0.        , 0.        ,\n",
       "        0.        , 0.        , 0.01176471, 0.        , 0.14117647,\n",
       "        0.53333333, 0.49803922, 0.24313725, 0.21176471, 0.        ,\n",
       "        0.        , 0.        , 0.00392157, 0.01176471, 0.01568627,\n",
       "        0.        , 0.        , 0.01176471],\n",
       "       [0.        , 0.        , 0.        , 0.        , 0.        ,\n",
       "        0.        , 0.        , 0.        , 0.        , 0.        ,\n",
       "        0.        , 0.        , 0.02352941, 0.        , 0.4       ,\n",
       "        0.8       , 0.69019608, 0.5254902 , 0.56470588, 0.48235294,\n",
       "        0.09019608, 0.        , 0.        , 0.        , 0.        ,\n",
       "        0.04705882, 0.03921569, 0.        ],\n",
       "       [0.        , 0.        , 0.        , 0.        , 0.        ,\n",
       "        0.        , 0.        , 0.        , 0.        , 0.        ,\n",
       "        0.        , 0.        , 0.        , 0.        , 0.60784314,\n",
       "        0.9254902 , 0.81176471, 0.69803922, 0.41960784, 0.61176471,\n",
       "        0.63137255, 0.42745098, 0.25098039, 0.09019608, 0.30196078,\n",
       "        0.50980392, 0.28235294, 0.05882353],\n",
       "       [0.        , 0.        , 0.        , 0.        , 0.        ,\n",
       "        0.        , 0.        , 0.        , 0.        , 0.        ,\n",
       "        0.        , 0.00392157, 0.        , 0.27058824, 0.81176471,\n",
       "        0.8745098 , 0.85490196, 0.84705882, 0.84705882, 0.63921569,\n",
       "        0.49803922, 0.4745098 , 0.47843137, 0.57254902, 0.55294118,\n",
       "        0.34509804, 0.6745098 , 0.25882353],\n",
       "       [0.        , 0.        , 0.        , 0.        , 0.        ,\n",
       "        0.        , 0.        , 0.        , 0.        , 0.00392157,\n",
       "        0.00392157, 0.00392157, 0.        , 0.78431373, 0.90980392,\n",
       "        0.90980392, 0.91372549, 0.89803922, 0.8745098 , 0.8745098 ,\n",
       "        0.84313725, 0.83529412, 0.64313725, 0.49803922, 0.48235294,\n",
       "        0.76862745, 0.89803922, 0.        ],\n",
       "       [0.        , 0.        , 0.        , 0.        , 0.        ,\n",
       "        0.        , 0.        , 0.        , 0.        , 0.        ,\n",
       "        0.        , 0.        , 0.        , 0.71764706, 0.88235294,\n",
       "        0.84705882, 0.8745098 , 0.89411765, 0.92156863, 0.89019608,\n",
       "        0.87843137, 0.87058824, 0.87843137, 0.86666667, 0.8745098 ,\n",
       "        0.96078431, 0.67843137, 0.        ],\n",
       "       [0.        , 0.        , 0.        , 0.        , 0.        ,\n",
       "        0.        , 0.        , 0.        , 0.        , 0.        ,\n",
       "        0.        , 0.        , 0.        , 0.75686275, 0.89411765,\n",
       "        0.85490196, 0.83529412, 0.77647059, 0.70588235, 0.83137255,\n",
       "        0.82352941, 0.82745098, 0.83529412, 0.8745098 , 0.8627451 ,\n",
       "        0.95294118, 0.79215686, 0.        ],\n",
       "       [0.        , 0.        , 0.        , 0.        , 0.        ,\n",
       "        0.        , 0.        , 0.        , 0.        , 0.00392157,\n",
       "        0.01176471, 0.        , 0.04705882, 0.85882353, 0.8627451 ,\n",
       "        0.83137255, 0.85490196, 0.75294118, 0.6627451 , 0.89019608,\n",
       "        0.81568627, 0.85490196, 0.87843137, 0.83137255, 0.88627451,\n",
       "        0.77254902, 0.81960784, 0.20392157],\n",
       "       [0.        , 0.        , 0.        , 0.        , 0.        ,\n",
       "        0.        , 0.        , 0.        , 0.        , 0.        ,\n",
       "        0.02352941, 0.        , 0.38823529, 0.95686275, 0.87058824,\n",
       "        0.8627451 , 0.85490196, 0.79607843, 0.77647059, 0.86666667,\n",
       "        0.84313725, 0.83529412, 0.87058824, 0.8627451 , 0.96078431,\n",
       "        0.46666667, 0.65490196, 0.21960784],\n",
       "       [0.        , 0.        , 0.        , 0.        , 0.        ,\n",
       "        0.        , 0.        , 0.        , 0.        , 0.01568627,\n",
       "        0.        , 0.        , 0.21568627, 0.9254902 , 0.89411765,\n",
       "        0.90196078, 0.89411765, 0.94117647, 0.90980392, 0.83529412,\n",
       "        0.85490196, 0.8745098 , 0.91764706, 0.85098039, 0.85098039,\n",
       "        0.81960784, 0.36078431, 0.        ],\n",
       "       [0.        , 0.        , 0.00392157, 0.01568627, 0.02352941,\n",
       "        0.02745098, 0.00784314, 0.        , 0.        , 0.        ,\n",
       "        0.        , 0.        , 0.92941176, 0.88627451, 0.85098039,\n",
       "        0.8745098 , 0.87058824, 0.85882353, 0.87058824, 0.86666667,\n",
       "        0.84705882, 0.8745098 , 0.89803922, 0.84313725, 0.85490196,\n",
       "        1.        , 0.30196078, 0.        ],\n",
       "       [0.        , 0.01176471, 0.        , 0.        , 0.        ,\n",
       "        0.        , 0.        , 0.        , 0.        , 0.24313725,\n",
       "        0.56862745, 0.8       , 0.89411765, 0.81176471, 0.83529412,\n",
       "        0.86666667, 0.85490196, 0.81568627, 0.82745098, 0.85490196,\n",
       "        0.87843137, 0.8745098 , 0.85882353, 0.84313725, 0.87843137,\n",
       "        0.95686275, 0.62352941, 0.        ],\n",
       "       [0.        , 0.        , 0.        , 0.        , 0.07058824,\n",
       "        0.17254902, 0.32156863, 0.41960784, 0.74117647, 0.89411765,\n",
       "        0.8627451 , 0.87058824, 0.85098039, 0.88627451, 0.78431373,\n",
       "        0.80392157, 0.82745098, 0.90196078, 0.87843137, 0.91764706,\n",
       "        0.69019608, 0.7372549 , 0.98039216, 0.97254902, 0.91372549,\n",
       "        0.93333333, 0.84313725, 0.        ],\n",
       "       [0.        , 0.22352941, 0.73333333, 0.81568627, 0.87843137,\n",
       "        0.86666667, 0.87843137, 0.81568627, 0.8       , 0.83921569,\n",
       "        0.81568627, 0.81960784, 0.78431373, 0.62352941, 0.96078431,\n",
       "        0.75686275, 0.80784314, 0.8745098 , 1.        , 1.        ,\n",
       "        0.86666667, 0.91764706, 0.86666667, 0.82745098, 0.8627451 ,\n",
       "        0.90980392, 0.96470588, 0.        ],\n",
       "       [0.01176471, 0.79215686, 0.89411765, 0.87843137, 0.86666667,\n",
       "        0.82745098, 0.82745098, 0.83921569, 0.80392157, 0.80392157,\n",
       "        0.80392157, 0.8627451 , 0.94117647, 0.31372549, 0.58823529,\n",
       "        1.        , 0.89803922, 0.86666667, 0.7372549 , 0.60392157,\n",
       "        0.74901961, 0.82352941, 0.8       , 0.81960784, 0.87058824,\n",
       "        0.89411765, 0.88235294, 0.        ],\n",
       "       [0.38431373, 0.91372549, 0.77647059, 0.82352941, 0.87058824,\n",
       "        0.89803922, 0.89803922, 0.91764706, 0.97647059, 0.8627451 ,\n",
       "        0.76078431, 0.84313725, 0.85098039, 0.94509804, 0.25490196,\n",
       "        0.28627451, 0.41568627, 0.45882353, 0.65882353, 0.85882353,\n",
       "        0.86666667, 0.84313725, 0.85098039, 0.8745098 , 0.8745098 ,\n",
       "        0.87843137, 0.89803922, 0.11372549],\n",
       "       [0.29411765, 0.8       , 0.83137255, 0.8       , 0.75686275,\n",
       "        0.80392157, 0.82745098, 0.88235294, 0.84705882, 0.7254902 ,\n",
       "        0.77254902, 0.80784314, 0.77647059, 0.83529412, 0.94117647,\n",
       "        0.76470588, 0.89019608, 0.96078431, 0.9372549 , 0.8745098 ,\n",
       "        0.85490196, 0.83137255, 0.81960784, 0.87058824, 0.8627451 ,\n",
       "        0.86666667, 0.90196078, 0.2627451 ],\n",
       "       [0.18823529, 0.79607843, 0.71764706, 0.76078431, 0.83529412,\n",
       "        0.77254902, 0.7254902 , 0.74509804, 0.76078431, 0.75294118,\n",
       "        0.79215686, 0.83921569, 0.85882353, 0.86666667, 0.8627451 ,\n",
       "        0.9254902 , 0.88235294, 0.84705882, 0.78039216, 0.80784314,\n",
       "        0.72941176, 0.70980392, 0.69411765, 0.6745098 , 0.70980392,\n",
       "        0.80392157, 0.80784314, 0.45098039],\n",
       "       [0.        , 0.47843137, 0.85882353, 0.75686275, 0.70196078,\n",
       "        0.67058824, 0.71764706, 0.76862745, 0.8       , 0.82352941,\n",
       "        0.83529412, 0.81176471, 0.82745098, 0.82352941, 0.78431373,\n",
       "        0.76862745, 0.76078431, 0.74901961, 0.76470588, 0.74901961,\n",
       "        0.77647059, 0.75294118, 0.69019608, 0.61176471, 0.65490196,\n",
       "        0.69411765, 0.82352941, 0.36078431],\n",
       "       [0.        , 0.        , 0.29019608, 0.74117647, 0.83137255,\n",
       "        0.74901961, 0.68627451, 0.6745098 , 0.68627451, 0.70980392,\n",
       "        0.7254902 , 0.7372549 , 0.74117647, 0.7372549 , 0.75686275,\n",
       "        0.77647059, 0.8       , 0.81960784, 0.82352941, 0.82352941,\n",
       "        0.82745098, 0.7372549 , 0.7372549 , 0.76078431, 0.75294118,\n",
       "        0.84705882, 0.66666667, 0.        ],\n",
       "       [0.00784314, 0.        , 0.        , 0.        , 0.25882353,\n",
       "        0.78431373, 0.87058824, 0.92941176, 0.9372549 , 0.94901961,\n",
       "        0.96470588, 0.95294118, 0.95686275, 0.86666667, 0.8627451 ,\n",
       "        0.75686275, 0.74901961, 0.70196078, 0.71372549, 0.71372549,\n",
       "        0.70980392, 0.69019608, 0.65098039, 0.65882353, 0.38823529,\n",
       "        0.22745098, 0.        , 0.        ],\n",
       "       [0.        , 0.        , 0.        , 0.        , 0.        ,\n",
       "        0.        , 0.        , 0.15686275, 0.23921569, 0.17254902,\n",
       "        0.28235294, 0.16078431, 0.1372549 , 0.        , 0.        ,\n",
       "        0.        , 0.        , 0.        , 0.        , 0.        ,\n",
       "        0.        , 0.        , 0.        , 0.        , 0.        ,\n",
       "        0.        , 0.        , 0.        ],\n",
       "       [0.        , 0.        , 0.        , 0.        , 0.        ,\n",
       "        0.        , 0.        , 0.        , 0.        , 0.        ,\n",
       "        0.        , 0.        , 0.        , 0.        , 0.        ,\n",
       "        0.        , 0.        , 0.        , 0.        , 0.        ,\n",
       "        0.        , 0.        , 0.        , 0.        , 0.        ,\n",
       "        0.        , 0.        , 0.        ],\n",
       "       [0.        , 0.        , 0.        , 0.        , 0.        ,\n",
       "        0.        , 0.        , 0.        , 0.        , 0.        ,\n",
       "        0.        , 0.        , 0.        , 0.        , 0.        ,\n",
       "        0.        , 0.        , 0.        , 0.        , 0.        ,\n",
       "        0.        , 0.        , 0.        , 0.        , 0.        ,\n",
       "        0.        , 0.        , 0.        ]])"
      ]
     },
     "execution_count": 102,
     "metadata": {},
     "output_type": "execute_result"
    }
   ],
   "source": [
    "X_train[0]"
   ]
  },
  {
   "cell_type": "code",
   "execution_count": 103,
   "id": "0417e366",
   "metadata": {},
   "outputs": [
    {
     "data": {
      "text/plain": [
       "(60000, 28, 28)"
      ]
     },
     "execution_count": 103,
     "metadata": {},
     "output_type": "execute_result"
    }
   ],
   "source": [
    "X_train.shape"
   ]
  },
  {
   "cell_type": "markdown",
   "id": "7e17060f",
   "metadata": {},
   "source": [
    "### No hidden layers model #1 - Optimizer = 'adam'"
   ]
  },
  {
   "cell_type": "code",
   "execution_count": 104,
   "id": "815290b6",
   "metadata": {},
   "outputs": [
    {
     "name": "stdout",
     "output_type": "stream",
     "text": [
      "Epoch 1/5\n",
      "1875/1875 [==============================] - 2s 962us/step - loss: 0.6020 - accuracy: 0.7975\n",
      "Epoch 2/5\n",
      "1875/1875 [==============================] - 3s 2ms/step - loss: 0.4617 - accuracy: 0.8425\n",
      "Epoch 3/5\n",
      "1875/1875 [==============================] - 3s 2ms/step - loss: 0.4365 - accuracy: 0.8508\n",
      "Epoch 4/5\n",
      "1875/1875 [==============================] - 3s 2ms/step - loss: 0.4219 - accuracy: 0.8552\n",
      "Epoch 5/5\n",
      "1875/1875 [==============================] - 3s 2ms/step - loss: 0.4129 - accuracy: 0.8562\n",
      "313/313 [==============================] - 0s 686us/step - loss: 0.4586 - accuracy: 0.8394\n"
     ]
    },
    {
     "data": {
      "text/plain": [
       "[0.45855963230133057, 0.8393999934196472]"
      ]
     },
     "execution_count": 104,
     "metadata": {},
     "output_type": "execute_result"
    }
   ],
   "source": [
    "ann1 = keras.Sequential([\n",
    "                         keras.layers.Flatten(input_shape=(28, 28)),\n",
    "                         keras.layers.Dense(10, activation='sigmoid')\n",
    "                         ])\n",
    "\n",
    "ann1.compile(optimizer='adam',\n",
    "              loss='sparse_categorical_crossentropy',\n",
    "              metrics=['accuracy'])\n",
    "\n",
    "ann1.fit(X_train, y_train, epochs=5)\n",
    "ann1.evaluate(X_test, y_test)"
   ]
  },
  {
   "cell_type": "markdown",
   "id": "3f97eeb6",
   "metadata": {},
   "source": [
    "### No hidden layers model #1.1 - Optimizer = 'SGD'"
   ]
  },
  {
   "cell_type": "code",
   "execution_count": 105,
   "id": "8dd95dc6",
   "metadata": {},
   "outputs": [
    {
     "name": "stdout",
     "output_type": "stream",
     "text": [
      "Epoch 1/5\n",
      "1875/1875 [==============================] - 2s 1ms/step - loss: 0.8262 - accuracy: 0.7365\n",
      "Epoch 2/5\n",
      "1875/1875 [==============================] - 2s 1ms/step - loss: 0.5918 - accuracy: 0.8074\n",
      "Epoch 3/5\n",
      "1875/1875 [==============================] - 2s 888us/step - loss: 0.5422 - accuracy: 0.8213\n",
      "Epoch 4/5\n",
      "1875/1875 [==============================] - 2s 948us/step - loss: 0.5154 - accuracy: 0.8290\n",
      "Epoch 5/5\n",
      "1875/1875 [==============================] - 2s 1ms/step - loss: 0.4979 - accuracy: 0.8336\n"
     ]
    },
    {
     "data": {
      "text/plain": [
       "<keras.callbacks.History at 0x2071b314d60>"
      ]
     },
     "execution_count": 105,
     "metadata": {},
     "output_type": "execute_result"
    }
   ],
   "source": [
    "ann1_1 = keras.Sequential([\n",
    "                         keras.layers.Flatten(input_shape=(28, 28)),\n",
    "                         keras.layers.Dense(10, activation='sigmoid')\n",
    "                         ])\n",
    "\n",
    "ann1_1.compile(optimizer='SGD',\n",
    "              loss='sparse_categorical_crossentropy',\n",
    "              metrics=['accuracy'])\n",
    "ann1_1.fit(X_train, y_train, epochs=5)"
   ]
  },
  {
   "cell_type": "code",
   "execution_count": 106,
   "id": "80a39927",
   "metadata": {},
   "outputs": [
    {
     "name": "stdout",
     "output_type": "stream",
     "text": [
      "313/313 [==============================] - 0s 828us/step - loss: 0.5194 - accuracy: 0.8216\n"
     ]
    },
    {
     "data": {
      "text/plain": [
       "[0.519392192363739, 0.8216000199317932]"
      ]
     },
     "execution_count": 106,
     "metadata": {},
     "output_type": "execute_result"
    }
   ],
   "source": [
    "ann1_1.evaluate(X_test, y_test)"
   ]
  },
  {
   "cell_type": "markdown",
   "id": "0db6a52b",
   "metadata": {},
   "source": [
    "### No hidden layers model #1.2 - Optimizer = 'RMSprop'"
   ]
  },
  {
   "cell_type": "code",
   "execution_count": 107,
   "id": "9166e746",
   "metadata": {},
   "outputs": [
    {
     "name": "stdout",
     "output_type": "stream",
     "text": [
      "Epoch 1/5\n",
      "1875/1875 [==============================] - 2s 1ms/step - loss: 0.5865 - accuracy: 0.8020\n",
      "Epoch 2/5\n",
      "1875/1875 [==============================] - 2s 976us/step - loss: 0.4709 - accuracy: 0.8416\n",
      "Epoch 3/5\n",
      "1875/1875 [==============================] - 2s 1ms/step - loss: 0.4518 - accuracy: 0.8489\n",
      "Epoch 4/5\n",
      "1875/1875 [==============================] - 2s 988us/step - loss: 0.4414 - accuracy: 0.8537\n",
      "Epoch 5/5\n",
      "1875/1875 [==============================] - 2s 1ms/step - loss: 0.4349 - accuracy: 0.8552\n",
      "313/313 [==============================] - 0s 808us/step - loss: 0.4770 - accuracy: 0.8432\n"
     ]
    },
    {
     "data": {
      "text/plain": [
       "[0.47698110342025757, 0.8432000279426575]"
      ]
     },
     "execution_count": 107,
     "metadata": {},
     "output_type": "execute_result"
    }
   ],
   "source": [
    "ann1_2 = keras.Sequential([\n",
    "                         keras.layers.Flatten(input_shape=(28, 28)),\n",
    "                         keras.layers.Dense(10, activation='sigmoid')\n",
    "                         ])\n",
    "\n",
    "ann1_2.compile(optimizer='RMSprop',\n",
    "              loss='sparse_categorical_crossentropy',\n",
    "              metrics=['accuracy'])\n",
    "ann1_2.fit(X_train, y_train, epochs=5)\n",
    "ann1_2.evaluate(X_test, y_test)"
   ]
  },
  {
   "cell_type": "markdown",
   "id": "bc926988",
   "metadata": {},
   "source": [
    "### No hidden layers model #1.3 - Optimizer = 'Adadelta'"
   ]
  },
  {
   "cell_type": "code",
   "execution_count": 108,
   "id": "fa206775",
   "metadata": {},
   "outputs": [
    {
     "name": "stdout",
     "output_type": "stream",
     "text": [
      "Epoch 1/5\n",
      "1875/1875 [==============================] - 3s 2ms/step - loss: 2.3694 - accuracy: 0.1148\n",
      "Epoch 2/5\n",
      "1875/1875 [==============================] - 3s 2ms/step - loss: 2.1659 - accuracy: 0.1896\n",
      "Epoch 3/5\n",
      "1875/1875 [==============================] - 3s 2ms/step - loss: 1.9967 - accuracy: 0.2879\n",
      "Epoch 4/5\n",
      "1875/1875 [==============================] - 3s 2ms/step - loss: 1.8514 - accuracy: 0.3853\n",
      "Epoch 5/5\n",
      "1875/1875 [==============================] - 3s 2ms/step - loss: 1.7268 - accuracy: 0.4881\n"
     ]
    },
    {
     "data": {
      "text/plain": [
       "<keras.callbacks.History at 0x2071c5c9d90>"
      ]
     },
     "execution_count": 108,
     "metadata": {},
     "output_type": "execute_result"
    }
   ],
   "source": [
    "ann1_3 = keras.Sequential([\n",
    "                         keras.layers.Flatten(input_shape=(28, 28)),\n",
    "                         keras.layers.Dense(10, activation='sigmoid')\n",
    "                         ])\n",
    "\n",
    "ann1_3.compile(optimizer='Adadelta',\n",
    "              loss='sparse_categorical_crossentropy',\n",
    "              metrics=['accuracy'])\n",
    "ann1_3.fit(X_train, y_train, epochs=5)\n"
   ]
  },
  {
   "cell_type": "code",
   "execution_count": 109,
   "id": "67b26579",
   "metadata": {},
   "outputs": [
    {
     "name": "stdout",
     "output_type": "stream",
     "text": [
      "313/313 [==============================] - 0s 741us/step - loss: 1.6735 - accuracy: 0.5278\n"
     ]
    },
    {
     "data": {
      "text/plain": [
       "[1.6734546422958374, 0.5278000235557556]"
      ]
     },
     "execution_count": 109,
     "metadata": {},
     "output_type": "execute_result"
    }
   ],
   "source": [
    "ann1_3.evaluate(X_test, y_test)"
   ]
  },
  {
   "cell_type": "markdown",
   "id": "7d09bfe7",
   "metadata": {},
   "source": [
    "### No hidden layers model #1.4 - Optimizer = 'Adagrad'"
   ]
  },
  {
   "cell_type": "code",
   "execution_count": 110,
   "id": "ffcc57a9",
   "metadata": {},
   "outputs": [
    {
     "name": "stdout",
     "output_type": "stream",
     "text": [
      "Epoch 1/5\n",
      "1875/1875 [==============================] - 2s 982us/step - loss: 1.2740 - accuracy: 0.6165\n",
      "Epoch 2/5\n",
      "1875/1875 [==============================] - 3s 1ms/step - loss: 0.9298 - accuracy: 0.6993\n",
      "Epoch 3/5\n",
      "1875/1875 [==============================] - 3s 1ms/step - loss: 0.8436 - accuracy: 0.7222\n",
      "Epoch 4/5\n",
      "1875/1875 [==============================] - 2s 962us/step - loss: 0.7963 - accuracy: 0.7358\n",
      "Epoch 5/5\n",
      "1875/1875 [==============================] - 2s 890us/step - loss: 0.7648 - accuracy: 0.7457\n",
      "313/313 [==============================] - 0s 674us/step - loss: 0.7670 - accuracy: 0.7376\n"
     ]
    },
    {
     "data": {
      "text/plain": [
       "[0.7670134902000427, 0.7376000285148621]"
      ]
     },
     "execution_count": 110,
     "metadata": {},
     "output_type": "execute_result"
    }
   ],
   "source": [
    "ann1_4 = keras.Sequential([\n",
    "                         keras.layers.Flatten(input_shape=(28, 28)),\n",
    "                         keras.layers.Dense(10, activation='sigmoid')\n",
    "                         ])\n",
    "\n",
    "ann1_4.compile(optimizer='Adagrad',\n",
    "              loss='sparse_categorical_crossentropy',\n",
    "              metrics=['accuracy'])\n",
    "ann1_4.fit(X_train, y_train, epochs=5)\n",
    "ann1_4.evaluate(X_test, y_test)\n"
   ]
  },
  {
   "cell_type": "markdown",
   "id": "cdc02ac1",
   "metadata": {},
   "source": [
    "### No hidden layers model #1.5 - Optimizer = 'Adamax'"
   ]
  },
  {
   "cell_type": "code",
   "execution_count": 111,
   "id": "151a1792",
   "metadata": {},
   "outputs": [
    {
     "name": "stdout",
     "output_type": "stream",
     "text": [
      "Epoch 1/5\n",
      "1875/1875 [==============================] - 2s 794us/step - loss: 0.7205 - accuracy: 0.7609\n",
      "Epoch 2/5\n",
      "1875/1875 [==============================] - 2s 915us/step - loss: 0.5267 - accuracy: 0.8240\n",
      "Epoch 3/5\n",
      "1875/1875 [==============================] - 2s 956us/step - loss: 0.4871 - accuracy: 0.8363\n",
      "Epoch 4/5\n",
      "1875/1875 [==============================] - 2s 952us/step - loss: 0.4662 - accuracy: 0.8434\n",
      "Epoch 5/5\n",
      "1875/1875 [==============================] - 2s 994us/step - loss: 0.4522 - accuracy: 0.8466\n",
      "313/313 [==============================] - 0s 915us/step - loss: 0.4806 - accuracy: 0.8341\n"
     ]
    },
    {
     "data": {
      "text/plain": [
       "[0.48064613342285156, 0.8341000080108643]"
      ]
     },
     "execution_count": 111,
     "metadata": {},
     "output_type": "execute_result"
    }
   ],
   "source": [
    "ann1_5 = keras.Sequential([\n",
    "                         keras.layers.Flatten(input_shape=(28, 28)),\n",
    "                         keras.layers.Dense(10, activation='sigmoid')\n",
    "                         ])\n",
    "\n",
    "ann1_5.compile(optimizer='Adamax',\n",
    "              loss='sparse_categorical_crossentropy',\n",
    "              metrics=['accuracy'])\n",
    "ann1_5.fit(X_train, y_train, epochs=5)\n",
    "ann1_5.evaluate(X_test, y_test)\n"
   ]
  },
  {
   "cell_type": "markdown",
   "id": "7c6498a5",
   "metadata": {},
   "source": [
    "### No hidden layers model #1.6 - Optimizer = 'Nadam'"
   ]
  },
  {
   "cell_type": "code",
   "execution_count": 112,
   "id": "55eb63fe",
   "metadata": {},
   "outputs": [
    {
     "name": "stdout",
     "output_type": "stream",
     "text": [
      "Epoch 1/5\n",
      "1875/1875 [==============================] - 2s 998us/step - loss: 0.6081 - accuracy: 0.7962\n",
      "Epoch 2/5\n",
      "1875/1875 [==============================] - 3s 2ms/step - loss: 0.4593 - accuracy: 0.8431\n",
      "Epoch 3/5\n",
      "1875/1875 [==============================] - 3s 2ms/step - loss: 0.4324 - accuracy: 0.8515\n",
      "Epoch 4/5\n",
      "1875/1875 [==============================] - 3s 2ms/step - loss: 0.4191 - accuracy: 0.8550\n",
      "Epoch 5/5\n",
      "1875/1875 [==============================] - 3s 2ms/step - loss: 0.4100 - accuracy: 0.8582\n",
      "313/313 [==============================] - 1s 1ms/step - loss: 0.4591 - accuracy: 0.8396\n"
     ]
    },
    {
     "data": {
      "text/plain": [
       "[0.4590548872947693, 0.8396000266075134]"
      ]
     },
     "execution_count": 112,
     "metadata": {},
     "output_type": "execute_result"
    }
   ],
   "source": [
    "ann1_6 = keras.Sequential([\n",
    "                         keras.layers.Flatten(input_shape=(28, 28)),\n",
    "                         keras.layers.Dense(10, activation='sigmoid')\n",
    "                         ])\n",
    "\n",
    "ann1_6.compile(optimizer='Nadam',\n",
    "              loss='sparse_categorical_crossentropy',\n",
    "              metrics=['accuracy'])\n",
    "ann1_6.fit(X_train, y_train, epochs=5)\n",
    "ann1_6.evaluate(X_test, y_test)\n"
   ]
  },
  {
   "cell_type": "markdown",
   "id": "b02a2685",
   "metadata": {},
   "source": [
    "### No hidden layers model #1.7 - Optimizer = 'Ftrl'"
   ]
  },
  {
   "cell_type": "code",
   "execution_count": 113,
   "id": "3be02185",
   "metadata": {
    "scrolled": true
   },
   "outputs": [
    {
     "name": "stdout",
     "output_type": "stream",
     "text": [
      "Epoch 1/5\n",
      "1875/1875 [==============================] - 2s 790us/step - loss: 1.2531 - accuracy: 0.6632\n",
      "Epoch 2/5\n",
      "1875/1875 [==============================] - 1s 768us/step - loss: 0.9137 - accuracy: 0.7118\n",
      "Epoch 3/5\n",
      "1875/1875 [==============================] - 1s 772us/step - loss: 0.8293 - accuracy: 0.7344\n",
      "Epoch 4/5\n",
      "1875/1875 [==============================] - 1s 748us/step - loss: 0.7832 - accuracy: 0.7478\n",
      "Epoch 5/5\n",
      "1875/1875 [==============================] - 1s 752us/step - loss: 0.7523 - accuracy: 0.7563\n",
      "313/313 [==============================] - 0s 781us/step - loss: 0.7554 - accuracy: 0.7469\n"
     ]
    },
    {
     "data": {
      "text/plain": [
       "[0.7554205060005188, 0.7469000220298767]"
      ]
     },
     "execution_count": 113,
     "metadata": {},
     "output_type": "execute_result"
    }
   ],
   "source": [
    "ann1_7 = keras.Sequential([\n",
    "                         keras.layers.Flatten(input_shape=(28, 28)),\n",
    "                         keras.layers.Dense(10, activation='sigmoid')\n",
    "                         ])\n",
    "\n",
    "ann1_7.compile(optimizer='Ftrl',\n",
    "              loss='sparse_categorical_crossentropy',\n",
    "              metrics=['accuracy'])\n",
    "ann1_7.fit(X_train, y_train, epochs=5)\n",
    "ann1_7.evaluate(X_test, y_test)\n"
   ]
  },
  {
   "cell_type": "markdown",
   "id": "da53d67a",
   "metadata": {},
   "source": [
    "**From 8 models above using 8 different optimizers, I observed that the model #1.2 using optimizer = 'RMSprop' and losses = 'sparse_categorical_crossentropy' is having the highest accuracy at 0.8432. Hence, I will pick this optimizer and continue testing out different losses to see if I can get higher accuracy.**"
   ]
  },
  {
   "cell_type": "markdown",
   "id": "fa11bb5a",
   "metadata": {},
   "source": [
    "### No layers model #1.2.1 - Optimizer = 'RMSprop', losses = 'poisson'"
   ]
  },
  {
   "cell_type": "code",
   "execution_count": 114,
   "id": "f69b1e2f",
   "metadata": {},
   "outputs": [
    {
     "name": "stdout",
     "output_type": "stream",
     "text": [
      "Epoch 1/5\n",
      "1875/1875 [==============================] - 3s 2ms/step - loss: 1.0103 - accuracy: 0.0980\n",
      "Epoch 2/5\n",
      "1875/1875 [==============================] - 3s 2ms/step - loss: 1.0000 - accuracy: 0.0993\n",
      "Epoch 3/5\n",
      "1875/1875 [==============================] - 3s 2ms/step - loss: 1.0000 - accuracy: 0.0995\n",
      "Epoch 4/5\n",
      "1875/1875 [==============================] - 3s 2ms/step - loss: 1.0000 - accuracy: 0.0994\n",
      "Epoch 5/5\n",
      "1875/1875 [==============================] - 3s 2ms/step - loss: 1.0000 - accuracy: 0.0994\n",
      "313/313 [==============================] - 1s 2ms/step - loss: 1.0000 - accuracy: 0.0996\n"
     ]
    },
    {
     "data": {
      "text/plain": [
       "[1.0, 0.09960000216960907]"
      ]
     },
     "execution_count": 114,
     "metadata": {},
     "output_type": "execute_result"
    }
   ],
   "source": [
    "ann1_2_1 = keras.Sequential([\n",
    "                         keras.layers.Flatten(input_shape=(28, 28)),\n",
    "                         keras.layers.Dense(10, activation='sigmoid')\n",
    "                         ])\n",
    "\n",
    "ann1_2_1.compile(optimizer='RMSprop',\n",
    "              loss='poisson',\n",
    "              metrics=['accuracy'])\n",
    "ann1_2_1.fit(X_train, y_train, epochs=5)\n",
    "ann1_2_1.evaluate(X_test, y_test)"
   ]
  },
  {
   "cell_type": "markdown",
   "id": "d489ce41",
   "metadata": {},
   "source": [
    "### No layers model #1.2.2 - Optimizer = 'RMSprop', losses = 'kl_divergence'"
   ]
  },
  {
   "cell_type": "code",
   "execution_count": 116,
   "id": "8670ab1a",
   "metadata": {},
   "outputs": [
    {
     "name": "stdout",
     "output_type": "stream",
     "text": [
      "Epoch 1/5\n",
      "1875/1875 [==============================] - 2s 842us/step - loss: 0.0259 - accuracy: 0.1022\n",
      "Epoch 2/5\n",
      "1875/1875 [==============================] - 2s 910us/step - loss: -2.4478e-07 - accuracy: 0.1001\n",
      "Epoch 3/5\n",
      "1875/1875 [==============================] - 2s 906us/step - loss: -1.1045e-06 - accuracy: 0.0999\n",
      "Epoch 4/5\n",
      "1875/1875 [==============================] - 3s 2ms/step - loss: -1.2989e-06 - accuracy: 0.0999\n",
      "Epoch 5/5\n",
      "1875/1875 [==============================] - 2s 990us/step - loss: -1.3998e-06 - accuracy: 0.0999\n",
      "313/313 [==============================] - 1s 2ms/step - loss: -1.4987e-06 - accuracy: 0.1000\n"
     ]
    },
    {
     "data": {
      "text/plain": [
       "[-1.4987416534495424e-06, 0.10000000149011612]"
      ]
     },
     "execution_count": 116,
     "metadata": {},
     "output_type": "execute_result"
    }
   ],
   "source": [
    "ann1_2_2 = keras.Sequential([\n",
    "                         keras.layers.Flatten(input_shape=(28, 28)),\n",
    "                         keras.layers.Dense(10, activation='sigmoid')\n",
    "                         ])\n",
    "\n",
    "ann1_2_2.compile(optimizer='RMSprop',\n",
    "              loss='kl_divergence',\n",
    "              metrics=['accuracy'])\n",
    "ann1_2_2.fit(X_train, y_train, epochs=5)\n",
    "ann1_2_2.evaluate(X_test, y_test)"
   ]
  },
  {
   "cell_type": "markdown",
   "id": "426a0527",
   "metadata": {},
   "source": [
    "### No layers model #1.2.3 - Optimizer = 'RMSprop', losses = 'mean_squared_error'"
   ]
  },
  {
   "cell_type": "code",
   "execution_count": 117,
   "id": "b9feed5e",
   "metadata": {},
   "outputs": [
    {
     "name": "stdout",
     "output_type": "stream",
     "text": [
      "Epoch 1/5\n",
      "1875/1875 [==============================] - 2s 972us/step - loss: 20.5194 - accuracy: 0.1073\n",
      "Epoch 2/5\n",
      "1875/1875 [==============================] - 2s 974us/step - loss: 20.5000 - accuracy: 0.0999\n",
      "Epoch 3/5\n",
      "1875/1875 [==============================] - 2s 985us/step - loss: 20.5000 - accuracy: 0.0996\n",
      "Epoch 4/5\n",
      "1875/1875 [==============================] - 2s 1ms/step - loss: 20.5000 - accuracy: 0.0997\n",
      "Epoch 5/5\n",
      "1875/1875 [==============================] - 2s 1ms/step - loss: 20.5000 - accuracy: 0.0997\n",
      "313/313 [==============================] - 1s 1ms/step - loss: 20.5000 - accuracy: 0.0996\n"
     ]
    },
    {
     "data": {
      "text/plain": [
       "[20.5, 0.09960000216960907]"
      ]
     },
     "execution_count": 117,
     "metadata": {},
     "output_type": "execute_result"
    }
   ],
   "source": [
    "ann1_2_3 = keras.Sequential([\n",
    "                         keras.layers.Flatten(input_shape=(28, 28)),\n",
    "                         keras.layers.Dense(10, activation='sigmoid')\n",
    "                         ])\n",
    "\n",
    "ann1_2_3.compile(optimizer='RMSprop',\n",
    "              loss='mean_squared_error',\n",
    "              metrics=['accuracy'])\n",
    "ann1_2_3.fit(X_train, y_train, epochs=5)\n",
    "ann1_2_3.evaluate(X_test, y_test)"
   ]
  },
  {
   "cell_type": "markdown",
   "id": "0dcf14ea",
   "metadata": {},
   "source": [
    "## No layers model #1.2.4 - Optimizer = 'RMSprop', losses = 'mean_absolute_error'"
   ]
  },
  {
   "cell_type": "code",
   "execution_count": 118,
   "id": "1c7350fc",
   "metadata": {
    "scrolled": true
   },
   "outputs": [
    {
     "name": "stdout",
     "output_type": "stream",
     "text": [
      "Epoch 1/5\n",
      "1875/1875 [==============================] - 2s 928us/step - loss: 3.7020 - accuracy: 0.1045\n",
      "Epoch 2/5\n",
      "1875/1875 [==============================] - 2s 880us/step - loss: 3.7000 - accuracy: 0.1014\n",
      "Epoch 3/5\n",
      "1875/1875 [==============================] - 2s 999us/step - loss: 3.7000 - accuracy: 0.1010\n",
      "Epoch 4/5\n",
      "1875/1875 [==============================] - 2s 1ms/step - loss: 3.7000 - accuracy: 0.1011\n",
      "Epoch 5/5\n",
      "1875/1875 [==============================] - 3s 2ms/step - loss: 3.7000 - accuracy: 0.1013\n",
      "313/313 [==============================] - 1s 1ms/step - loss: 3.7000 - accuracy: 0.1020\n"
     ]
    },
    {
     "data": {
      "text/plain": [
       "[3.6999995708465576, 0.10199999809265137]"
      ]
     },
     "execution_count": 118,
     "metadata": {},
     "output_type": "execute_result"
    }
   ],
   "source": [
    "ann1_2_4 = keras.Sequential([\n",
    "                         keras.layers.Flatten(input_shape=(28, 28)),\n",
    "                         keras.layers.Dense(10, activation='sigmoid')\n",
    "                         ])\n",
    "\n",
    "ann1_2_4.compile(optimizer='RMSprop',\n",
    "              loss='mean_absolute_error',\n",
    "              metrics=['accuracy'])\n",
    "ann1_2_4.fit(X_train, y_train, epochs=5)\n",
    "ann1_2_4.evaluate(X_test, y_test)"
   ]
  },
  {
   "cell_type": "markdown",
   "id": "aaa806de",
   "metadata": {},
   "source": [
    "## No layers model #1.2.5 - Optimizer = 'RMSprop', losses = 'huber'"
   ]
  },
  {
   "cell_type": "code",
   "execution_count": 69,
   "id": "29e3cb6b",
   "metadata": {},
   "outputs": [
    {
     "name": "stdout",
     "output_type": "stream",
     "text": [
      "Epoch 1/5\n",
      "1875/1875 [==============================] - 2s 933us/step - loss: 3.2518 - accuracy: 0.1130\n",
      "Epoch 2/5\n",
      "1875/1875 [==============================] - 2s 952us/step - loss: 3.2500 - accuracy: 0.0993\n",
      "Epoch 3/5\n",
      "1875/1875 [==============================] - 2s 905us/step - loss: 3.2500 - accuracy: 0.0971\n",
      "Epoch 4/5\n",
      "1875/1875 [==============================] - 2s 955us/step - loss: 3.2471 - accuracy: 0.1037\n",
      "Epoch 5/5\n",
      "1875/1875 [==============================] - 2s 890us/step - loss: 3.2361 - accuracy: 0.1041\n",
      "313/313 [==============================] - 0s 765us/step - loss: 3.2323 - accuracy: 0.1045\n"
     ]
    },
    {
     "data": {
      "text/plain": [
       "[3.232266664505005, 0.10450000315904617]"
      ]
     },
     "execution_count": 69,
     "metadata": {},
     "output_type": "execute_result"
    }
   ],
   "source": [
    "ann1_2_5 = keras.Sequential([\n",
    "                         keras.layers.Flatten(input_shape=(28, 28)),\n",
    "                         keras.layers.Dense(10, activation='sigmoid')\n",
    "                         ])\n",
    "\n",
    "ann1_2_5.compile(optimizer='RMSprop',\n",
    "              loss='huber',\n",
    "              metrics=['accuracy'])\n",
    "ann1_2_5.fit(X_train, y_train, epochs=5)\n",
    "ann1_2_5.evaluate(X_test, y_test)"
   ]
  },
  {
   "cell_type": "markdown",
   "id": "6cfce197",
   "metadata": {},
   "source": [
    "## No layers model #1.2.6 - Optimizer = 'RMSprop', losses = 'log_cosh'"
   ]
  },
  {
   "cell_type": "code",
   "execution_count": 119,
   "id": "92e00fd6",
   "metadata": {},
   "outputs": [
    {
     "name": "stdout",
     "output_type": "stream",
     "text": [
      "Epoch 1/5\n",
      "1875/1875 [==============================] - 2s 997us/step - loss: 3.1055 - accuracy: 0.1100\n",
      "Epoch 2/5\n",
      "1875/1875 [==============================] - 2s 946us/step - loss: 3.1037 - accuracy: 0.0988\n",
      "Epoch 3/5\n",
      "1875/1875 [==============================] - 2s 904us/step - loss: 3.1037 - accuracy: 0.0987\n",
      "Epoch 4/5\n",
      "1875/1875 [==============================] - 2s 960us/step - loss: 3.1037 - accuracy: 0.0986\n",
      "Epoch 5/5\n",
      "1875/1875 [==============================] - 2s 843us/step - loss: 3.1037 - accuracy: 0.0987\n",
      "313/313 [==============================] - 0s 881us/step - loss: 3.1037 - accuracy: 0.0994\n"
     ]
    },
    {
     "data": {
      "text/plain": [
       "[3.103654384613037, 0.09939999878406525]"
      ]
     },
     "execution_count": 119,
     "metadata": {},
     "output_type": "execute_result"
    }
   ],
   "source": [
    "ann1_2_6 = keras.Sequential([\n",
    "                         keras.layers.Flatten(input_shape=(28, 28)),\n",
    "                         keras.layers.Dense(10, activation='sigmoid')\n",
    "                         ])\n",
    "\n",
    "ann1_2_6.compile(optimizer='RMSprop',\n",
    "              loss='log_cosh',\n",
    "              metrics=['accuracy'])\n",
    "ann1_2_6.fit(X_train, y_train, epochs=5)\n",
    "ann1_2_6.evaluate(X_test, y_test)"
   ]
  },
  {
   "cell_type": "markdown",
   "id": "c98eb4f3",
   "metadata": {},
   "source": [
    "**The models using other losses are not giving any good accuracy. Only loss='sparse_categorical_crossentropy' is applicable for this type of classification model**\n",
    "\n",
    "**Note**\n",
    "- not able to run binary_crossentropy, categorical_crossentropy, cosine_similarity"
   ]
  },
  {
   "cell_type": "markdown",
   "id": "3553ecab",
   "metadata": {},
   "source": [
    "## Evaluation for model #1.2 with no hidden layer and using optimizer = 'RMSprop', loss='sparse_categorical_crossentropy'"
   ]
  },
  {
   "cell_type": "code",
   "execution_count": 120,
   "id": "d0b03b5a",
   "metadata": {},
   "outputs": [
    {
     "data": {
      "image/png": "[encoded data removed]",
      "text/plain": [
       "<Figure size 432x288 with 2 Axes>"
      ]
     },
     "metadata": {
      "needs_background": "light"
     },
     "output_type": "display_data"
    }
   ],
   "source": [
    "from sklearn.metrics import confusion_matrix \n",
    "predictions = ann1_2.predict(X_test)\n",
    "predictions_labels = [np.argmax(i) for i in predictions]\n",
    "\n",
    "cm = confusion_matrix(y_test, predictions_labels)\n",
    "cm\n",
    "import seaborn as sn\n",
    "\n",
    "sn.heatmap(cm, annot=True, fmt='d')\n",
    "plt.xlabel('Predicted')\n",
    "plt.ylabel('Actual');"
   ]
  },
  {
   "cell_type": "markdown",
   "id": "c5ed3789",
   "metadata": {},
   "source": []
  },
  {
   "cell_type": "markdown",
   "id": "d8cdd697",
   "metadata": {},
   "source": [
    "**Next, I will at 1 hidden layer to the model using optimizer='RMSprop', loss='sparse_categorical_crossentropy'**"
   ]
  },
  {
   "cell_type": "markdown",
   "id": "c117a000",
   "metadata": {},
   "source": [
    "## 1 hidden layer model #2 - optimizer='RMSprop', loss='sparse_categorical_crossentropy'"
   ]
  },
  {
   "cell_type": "code",
   "execution_count": 121,
   "id": "9d598a53",
   "metadata": {},
   "outputs": [
    {
     "name": "stdout",
     "output_type": "stream",
     "text": [
      "Epoch 1/5\n",
      "1875/1875 [==============================] - 2s 1ms/step - loss: 0.5666 - accuracy: 0.8063\n",
      "Epoch 2/5\n",
      "1875/1875 [==============================] - 2s 1ms/step - loss: 0.4412 - accuracy: 0.8458\n",
      "Epoch 3/5\n",
      "1875/1875 [==============================] - 2s 1ms/step - loss: 0.4117 - accuracy: 0.8579\n",
      "Epoch 4/5\n",
      "1875/1875 [==============================] - 2s 1ms/step - loss: 0.3900 - accuracy: 0.8630\n",
      "Epoch 5/5\n",
      "1875/1875 [==============================] - 3s 2ms/step - loss: 0.3769 - accuracy: 0.8670\n",
      "313/313 [==============================] - 0s 917us/step - loss: 0.4370 - accuracy: 0.8489\n"
     ]
    },
    {
     "data": {
      "text/plain": [
       "[0.43701523542404175, 0.8489000201225281]"
      ]
     },
     "execution_count": 121,
     "metadata": {},
     "output_type": "execute_result"
    }
   ],
   "source": [
    "ann2 = keras.Sequential([\n",
    "                         keras.layers.Flatten(input_shape=(28, 28)),\n",
    "                         keras.layers.Dense(20, activation='relu'),\n",
    "    keras.layers.Dense(10, activation ='sigmoid')\n",
    "                         ])\n",
    "\n",
    "ann2.compile(optimizer='RMSprop',\n",
    "              loss='sparse_categorical_crossentropy',\n",
    "              metrics=['accuracy'])\n",
    "\n",
    "ann2.fit(X_train, y_train, epochs=5)\n",
    "ann2.evaluate(X_test, y_test)"
   ]
  },
  {
   "cell_type": "code",
   "execution_count": 122,
   "id": "681512c3",
   "metadata": {},
   "outputs": [],
   "source": [
    "predictions2= ann2.predict(X_test)"
   ]
  },
  {
   "cell_type": "code",
   "execution_count": 123,
   "id": "6a9de649",
   "metadata": {},
   "outputs": [],
   "source": [
    "predictions_labels2 = [np.argmax(i) for i in predictions2]"
   ]
  },
  {
   "cell_type": "code",
   "execution_count": 124,
   "id": "9c1cc583",
   "metadata": {},
   "outputs": [
    {
     "data": {
      "text/plain": [
       "array([[792,   3,   5, 102,   2,   0,  87,   1,   7,   1],\n",
       "       [  2, 951,   2,  35,   3,   0,   6,   0,   1,   0],\n",
       "       [ 20,   2, 699,  34, 117,   0, 119,   0,   9,   0],\n",
       "       [ 14,   6,   6, 942,   9,   1,  19,   0,   3,   0],\n",
       "       [  0,   2,  81,  84, 687,   1, 139,   0,   6,   0],\n",
       "       [  0,   0,   0,   0,   0, 925,   0,  50,   6,  19],\n",
       "       [130,   2,  60,  83,  54,   0, 652,   1,  18,   0],\n",
       "       [  0,   0,   0,   0,   0,  18,   0, 963,   0,  19],\n",
       "       [  8,   1,   3,  12,   4,   1,  14,   7, 950,   0],\n",
       "       [  0,   0,   0,   0,   0,  10,   1,  61,   0, 928]], dtype=int64)"
      ]
     },
     "execution_count": 124,
     "metadata": {},
     "output_type": "execute_result"
    }
   ],
   "source": [
    "cm2 = confusion_matrix(y_test, predictions_labels2)\n",
    "cm2"
   ]
  },
  {
   "cell_type": "code",
   "execution_count": 125,
   "id": "f8323080",
   "metadata": {},
   "outputs": [
    {
     "data": {
      "image/png": "[encoded data removed]",
      "text/plain": [
       "<Figure size 432x288 with 2 Axes>"
      ]
     },
     "metadata": {
      "needs_background": "light"
     },
     "output_type": "display_data"
    }
   ],
   "source": [
    "sn.heatmap(cm2, annot=True, fmt='d')\n",
    "plt.xlabel('Predicted')\n",
    "plt.ylabel('Actual');"
   ]
  },
  {
   "cell_type": "markdown",
   "id": "385de04b",
   "metadata": {},
   "source": [
    "**I will now create a model with 2 hidden layer using the same optimizer and loss**"
   ]
  },
  {
   "cell_type": "code",
   "execution_count": 126,
   "id": "e809323d",
   "metadata": {},
   "outputs": [
    {
     "name": "stdout",
     "output_type": "stream",
     "text": [
      "Epoch 1/5\n",
      "1875/1875 [==============================] - 2s 1ms/step - loss: 0.5711 - accuracy: 0.8023\n",
      "Epoch 2/5\n",
      "1875/1875 [==============================] - 2s 1ms/step - loss: 0.4169 - accuracy: 0.8508\n",
      "Epoch 3/5\n",
      "1875/1875 [==============================] - 2s 1ms/step - loss: 0.3825 - accuracy: 0.8631\n",
      "Epoch 4/5\n",
      "1875/1875 [==============================] - 3s 1ms/step - loss: 0.3639 - accuracy: 0.8696\n",
      "Epoch 5/5\n",
      "1875/1875 [==============================] - 2s 1ms/step - loss: 0.3503 - accuracy: 0.8742\n",
      "313/313 [==============================] - 0s 960us/step - loss: 0.3923 - accuracy: 0.8629\n"
     ]
    },
    {
     "data": {
      "text/plain": [
       "[0.3922944962978363, 0.8629000186920166]"
      ]
     },
     "execution_count": 126,
     "metadata": {},
     "output_type": "execute_result"
    }
   ],
   "source": [
    "ann3 = keras.Sequential([\n",
    "                         keras.layers.Flatten(input_shape=(28, 28)),\n",
    "                         keras.layers.Dense(30, activation='relu'),\n",
    "    keras.layers.Dense(20, activation='relu'),\n",
    "    keras.layers.Dense(10, activation ='sigmoid')\n",
    "                         ])\n",
    "\n",
    "ann3.compile(optimizer='RMSprop',\n",
    "              loss='sparse_categorical_crossentropy',\n",
    "              metrics=['accuracy'])\n",
    "\n",
    "ann3.fit(X_train, y_train, epochs=5)\n",
    "ann3.evaluate(X_test, y_test)"
   ]
  },
  {
   "cell_type": "markdown",
   "id": "0ec838ea",
   "metadata": {},
   "source": [
    "# Conclusion\n",
    "- The model has best accuracy is model ann3 with 2 hidden layer and using optimizer='RMSprop', loss='sparse_categorical_crossentropy'\n"
   ]
  },
  {
   "cell_type": "code",
   "execution_count": null,
   "id": "7940c715",
   "metadata": {},
   "outputs": [],
   "source": []
  }
 ],
 "metadata": {
  "kernelspec": {
   "display_name": "Python 3",
   "language": "python",
   "name": "python3"
  },
  "language_info": {
   "codemirror_mode": {
    "name": "ipython",
    "version": 3
   },
   "file_extension": ".py",
   "mimetype": "text/x-python",
   "name": "python",
   "nbconvert_exporter": "python",
   "pygments_lexer": "ipython3",
   "version": "3.8.8"
  }
 },
 "nbformat": 4,
 "nbformat_minor": 5
}
