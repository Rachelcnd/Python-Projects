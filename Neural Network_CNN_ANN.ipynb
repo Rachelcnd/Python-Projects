{
 "cells": [
  {
   "cell_type": "markdown",
   "id": "7ee8ae6f",
   "metadata": {},
   "source": [
    "# The CIFAR-100 dataset\n",
    "\n",
    "The CIFAR-100 dataset consists of 60000 32x32 colour images in 100 classes, with 600 images per class. There are 500 training images and 100 testing images per class.\n"
   ]
  },
  {
   "cell_type": "code",
   "execution_count": 1,
   "id": "659bcc03",
   "metadata": {},
   "outputs": [],
   "source": [
    "import matplotlib.pyplot as plt\n",
    "import numpy as np\n",
    "import tensorflow as tf\n",
    "from tensorflow.keras import datasets, layers, models"
   ]
  },
  {
   "cell_type": "code",
   "execution_count": 2,
   "id": "449673d2",
   "metadata": {},
   "outputs": [],
   "source": [
    "(X_train, y_train), (X_test, y_test) = datasets.cifar100.load_data()"
   ]
  },
  {
   "cell_type": "code",
   "execution_count": 3,
   "id": "4a15a5da",
   "metadata": {},
   "outputs": [
    {
     "data": {
      "text/plain": [
       "(50000, 32, 32, 3)"
      ]
     },
     "execution_count": 3,
     "metadata": {},
     "output_type": "execute_result"
    }
   ],
   "source": [
    "X_train.shape"
   ]
  },
  {
   "cell_type": "code",
   "execution_count": 4,
   "id": "463b6438",
   "metadata": {},
   "outputs": [
    {
     "data": {
      "text/plain": [
       "(10000, 32, 32, 3)"
      ]
     },
     "execution_count": 4,
     "metadata": {},
     "output_type": "execute_result"
    }
   ],
   "source": [
    "X_test.shape"
   ]
  },
  {
   "cell_type": "code",
   "execution_count": 5,
   "id": "db7a0816",
   "metadata": {},
   "outputs": [
    {
     "data": {
      "text/plain": [
       "(50000, 1)"
      ]
     },
     "execution_count": 5,
     "metadata": {},
     "output_type": "execute_result"
    }
   ],
   "source": [
    "y_train.shape"
   ]
  },
  {
   "cell_type": "code",
   "execution_count": 6,
   "id": "1cd85787",
   "metadata": {},
   "outputs": [
    {
     "data": {
      "text/plain": [
       "array([[19],\n",
       "       [29],\n",
       "       [ 0],\n",
       "       ...,\n",
       "       [ 3],\n",
       "       [ 7],\n",
       "       [73]])"
      ]
     },
     "execution_count": 6,
     "metadata": {},
     "output_type": "execute_result"
    }
   ],
   "source": [
    "y_train"
   ]
  },
  {
   "cell_type": "code",
   "execution_count": 7,
   "id": "f5c9447b",
   "metadata": {},
   "outputs": [
    {
     "data": {
      "text/plain": [
       "array([19, 29,  0, ...,  3,  7, 73])"
      ]
     },
     "execution_count": 7,
     "metadata": {},
     "output_type": "execute_result"
    }
   ],
   "source": [
    "y_train = y_train.reshape(50000)\n",
    "y_train"
   ]
  },
  {
   "cell_type": "code",
   "execution_count": 8,
   "id": "041b6cda",
   "metadata": {},
   "outputs": [
    {
     "data": {
      "text/plain": [
       "(50000,)"
      ]
     },
     "execution_count": 8,
     "metadata": {},
     "output_type": "execute_result"
    }
   ],
   "source": [
    "y_train.shape"
   ]
  },
  {
   "cell_type": "code",
   "execution_count": 9,
   "id": "0ab11677",
   "metadata": {},
   "outputs": [],
   "source": [
    "#Scale data\n",
    "\n",
    "X_train = X_train/255\n",
    "X_test = X_test/255"
   ]
  },
  {
   "cell_type": "code",
   "execution_count": 10,
   "id": "88f5dc77",
   "metadata": {},
   "outputs": [
    {
     "data": {
      "text/plain": [
       "(32, 32, 3)"
      ]
     },
     "execution_count": 10,
     "metadata": {},
     "output_type": "execute_result"
    }
   ],
   "source": [
    "X_train[0].shape"
   ]
  },
  {
   "cell_type": "markdown",
   "id": "1a709228",
   "metadata": {},
   "source": [
    "## ANN model"
   ]
  },
  {
   "cell_type": "code",
   "execution_count": 28,
   "id": "c9812cf9",
   "metadata": {},
   "outputs": [],
   "source": [
    "ann = models.Sequential([\n",
    "                         layers.Flatten(input_shape=(32,32,3)),\n",
    "                         layers.Dense(256, activation = 'relu'),\n",
    "                         layers.Dense(512, activation = 'relu'),\n",
    "                         layers.Dense(100, activation = 'softmax')\n",
    "])"
   ]
  },
  {
   "cell_type": "code",
   "execution_count": 29,
   "id": "0286be4a",
   "metadata": {},
   "outputs": [],
   "source": [
    "ann.compile(optimizer='RMSprop',\n",
    "            loss = 'sparse_categorical_crossentropy',\n",
    "            metrics = ['accuracy'])"
   ]
  },
  {
   "cell_type": "code",
   "execution_count": 30,
   "id": "d0bd2eb9",
   "metadata": {},
   "outputs": [
    {
     "name": "stdout",
     "output_type": "stream",
     "text": [
      "Epoch 1/6\n",
      "1563/1563 [==============================] - 18s 11ms/step - loss: 4.0659 - accuracy: 0.0752 - val_loss: 3.9442 - val_accuracy: 0.0964\n",
      "Epoch 2/6\n",
      "1563/1563 [==============================] - 18s 11ms/step - loss: 3.7537 - accuracy: 0.1251 - val_loss: 3.8589 - val_accuracy: 0.1192\n",
      "Epoch 3/6\n",
      "1563/1563 [==============================] - 19s 12ms/step - loss: 3.6412 - accuracy: 0.1452 - val_loss: 3.6739 - val_accuracy: 0.1485\n",
      "Epoch 4/6\n",
      "1563/1563 [==============================] - 17s 11ms/step - loss: 3.5759 - accuracy: 0.1579 - val_loss: 3.5842 - val_accuracy: 0.1621\n",
      "Epoch 5/6\n",
      "1563/1563 [==============================] - 18s 11ms/step - loss: 3.5317 - accuracy: 0.1644 - val_loss: 3.6429 - val_accuracy: 0.1617\n",
      "Epoch 6/6\n",
      "1563/1563 [==============================] - 17s 11ms/step - loss: 3.5050 - accuracy: 0.1716 - val_loss: 3.6033 - val_accuracy: 0.1571\n"
     ]
    }
   ],
   "source": [
    "history = ann.fit(X_train, y_train, epochs=6, validation_data=(X_test, y_test))"
   ]
  },
  {
   "cell_type": "code",
   "execution_count": 31,
   "id": "c208718a",
   "metadata": {},
   "outputs": [
    {
     "name": "stdout",
     "output_type": "stream",
     "text": [
      "313/313 [==============================] - 1s 3ms/step - loss: 3.6033 - accuracy: 0.1571\n"
     ]
    },
    {
     "data": {
      "text/plain": [
       "[3.603266477584839, 0.15710000693798065]"
      ]
     },
     "execution_count": 31,
     "metadata": {},
     "output_type": "execute_result"
    }
   ],
   "source": [
    "ann.evaluate(X_test, y_test)"
   ]
  },
  {
   "cell_type": "code",
   "execution_count": 32,
   "id": "0371f49c",
   "metadata": {},
   "outputs": [
    {
     "name": "stdout",
     "output_type": "stream",
     "text": [
      "Model: \"sequential_3\"\n",
      "_________________________________________________________________\n",
      " Layer (type)                Output Shape              Param #   \n",
      "=================================================================\n",
      " flatten_3 (Flatten)         (None, 3072)              0         \n",
      "                                                                 \n",
      " dense_8 (Dense)             (None, 256)               786688    \n",
      "                                                                 \n",
      " dense_9 (Dense)             (None, 512)               131584    \n",
      "                                                                 \n",
      " dense_10 (Dense)            (None, 100)               51300     \n",
      "                                                                 \n",
      "=================================================================\n",
      "Total params: 969,572\n",
      "Trainable params: 969,572\n",
      "Non-trainable params: 0\n",
      "_________________________________________________________________\n"
     ]
    }
   ],
   "source": [
    "ann.summary()"
   ]
  },
  {
   "cell_type": "code",
   "execution_count": 33,
   "id": "58b28416",
   "metadata": {},
   "outputs": [
    {
     "data": {
      "image/png": "[encoded data removed]",
      "text/plain": [
       "<Figure size 576x576 with 2 Axes>"
      ]
     },
     "metadata": {
      "needs_background": "light"
     },
     "output_type": "display_data"
    }
   ],
   "source": [
    "acc = history.history['accuracy']\n",
    "val_acc = history.history['val_accuracy']\n",
    "\n",
    "loss = history.history['loss']\n",
    "val_loss = history.history['val_loss']\n",
    "\n",
    "plt.figure(figsize=(8, 8))\n",
    "\n",
    "plt.subplot(2, 1, 1)\n",
    "plt.plot(acc, label='training data')\n",
    "plt.plot(val_acc, label='testing data')\n",
    "plt.ylim([0.3,0.5])\n",
    "plt.xlabel('epoch')\n",
    "plt.ylabel('accuracy')\n",
    "plt.legend()\n",
    "\n",
    "plt.subplot(2, 1, 2)\n",
    "plt.plot(loss, label='training data')\n",
    "plt.plot(val_loss, label='testing data')\n",
    "plt.ylim([1.5,2])\n",
    "plt.xlabel('epoch')\n",
    "plt.ylabel('loss')\n",
    "plt.legend();"
   ]
  },
  {
   "cell_type": "code",
   "execution_count": 34,
   "id": "256d6c20",
   "metadata": {},
   "outputs": [],
   "source": [
    "y_pred = ann.predict(X_test)"
   ]
  },
  {
   "cell_type": "code",
   "execution_count": 35,
   "id": "672a25e0",
   "metadata": {},
   "outputs": [],
   "source": [
    "y_pred_classes = [np.argmax(element) for element in y_pred]"
   ]
  },
  {
   "cell_type": "code",
   "execution_count": 36,
   "id": "d2c301d9",
   "metadata": {},
   "outputs": [],
   "source": [
    "from sklearn.metrics import classification_report"
   ]
  },
  {
   "cell_type": "code",
   "execution_count": 37,
   "id": "503074bf",
   "metadata": {},
   "outputs": [
    {
     "name": "stdout",
     "output_type": "stream",
     "text": [
      "              precision    recall  f1-score   support\n",
      "\n",
      "           0       0.39      0.45      0.42       100\n",
      "           1       0.26      0.30      0.28       100\n",
      "           2       0.07      0.33      0.12       100\n",
      "           3       0.10      0.06      0.08       100\n",
      "           4       0.26      0.06      0.10       100\n",
      "           5       0.20      0.09      0.12       100\n",
      "           6       0.33      0.15      0.21       100\n",
      "           7       0.19      0.06      0.09       100\n",
      "           8       0.08      0.05      0.06       100\n",
      "           9       0.17      0.04      0.06       100\n",
      "          10       0.00      0.00      0.00       100\n",
      "          11       0.08      0.03      0.04       100\n",
      "          12       0.16      0.05      0.08       100\n",
      "          13       0.09      0.03      0.04       100\n",
      "          14       0.08      0.02      0.03       100\n",
      "          15       0.08      0.05      0.06       100\n",
      "          16       0.10      0.01      0.02       100\n",
      "          17       0.15      0.62      0.24       100\n",
      "          18       0.26      0.20      0.22       100\n",
      "          19       0.16      0.07      0.10       100\n",
      "          20       0.19      0.30      0.23       100\n",
      "          21       0.27      0.28      0.27       100\n",
      "          22       0.26      0.09      0.13       100\n",
      "          23       0.14      0.25      0.18       100\n",
      "          24       0.37      0.19      0.25       100\n",
      "          25       0.25      0.02      0.04       100\n",
      "          26       0.00      0.00      0.00       100\n",
      "          27       0.00      0.00      0.00       100\n",
      "          28       0.19      0.14      0.16       100\n",
      "          29       0.07      0.03      0.04       100\n",
      "          30       0.33      0.07      0.12       100\n",
      "          31       0.08      0.08      0.08       100\n",
      "          32       0.19      0.06      0.09       100\n",
      "          33       0.11      0.25      0.15       100\n",
      "          34       0.09      0.09      0.09       100\n",
      "          35       0.07      0.16      0.10       100\n",
      "          36       0.08      0.38      0.13       100\n",
      "          37       0.17      0.04      0.07       100\n",
      "          38       0.07      0.03      0.04       100\n",
      "          39       0.00      0.00      0.00       100\n",
      "          40       0.13      0.16      0.14       100\n",
      "          41       0.52      0.44      0.48       100\n",
      "          42       0.06      0.09      0.07       100\n",
      "          43       0.09      0.19      0.12       100\n",
      "          44       0.00      0.00      0.00       100\n",
      "          45       0.06      0.07      0.06       100\n",
      "          46       0.07      0.09      0.08       100\n",
      "          47       0.38      0.28      0.32       100\n",
      "          48       0.24      0.07      0.11       100\n",
      "          49       0.18      0.14      0.16       100\n",
      "          50       0.00      0.00      0.00       100\n",
      "          51       0.10      0.11      0.10       100\n",
      "          52       0.35      0.72      0.47       100\n",
      "          53       0.40      0.48      0.44       100\n",
      "          54       0.47      0.24      0.32       100\n",
      "          55       0.22      0.02      0.04       100\n",
      "          56       0.10      0.37      0.15       100\n",
      "          57       0.27      0.17      0.21       100\n",
      "          58       0.15      0.07      0.10       100\n",
      "          59       0.05      0.05      0.05       100\n",
      "          60       0.36      0.32      0.34       100\n",
      "          61       0.30      0.25      0.27       100\n",
      "          62       0.29      0.35      0.32       100\n",
      "          63       0.17      0.17      0.17       100\n",
      "          64       0.05      0.05      0.05       100\n",
      "          65       0.33      0.01      0.02       100\n",
      "          66       0.05      0.11      0.07       100\n",
      "          67       0.24      0.21      0.22       100\n",
      "          68       0.30      0.46      0.37       100\n",
      "          69       0.08      0.42      0.13       100\n",
      "          70       0.27      0.43      0.33       100\n",
      "          71       0.23      0.24      0.24       100\n",
      "          72       0.04      0.03      0.04       100\n",
      "          73       0.31      0.26      0.28       100\n",
      "          74       0.09      0.03      0.05       100\n",
      "          75       0.22      0.18      0.20       100\n",
      "          76       0.15      0.36      0.21       100\n",
      "          77       0.15      0.04      0.06       100\n",
      "          78       0.13      0.02      0.03       100\n",
      "          79       0.25      0.01      0.02       100\n",
      "          80       0.08      0.02      0.03       100\n",
      "          81       0.04      0.04      0.04       100\n",
      "          82       0.56      0.34      0.42       100\n",
      "          83       0.14      0.02      0.04       100\n",
      "          84       0.05      0.01      0.02       100\n",
      "          85       0.26      0.32      0.28       100\n",
      "          86       0.23      0.29      0.26       100\n",
      "          87       0.12      0.03      0.05       100\n",
      "          88       0.05      0.22      0.08       100\n",
      "          89       0.17      0.18      0.18       100\n",
      "          90       0.20      0.06      0.09       100\n",
      "          91       0.23      0.19      0.21       100\n",
      "          92       0.11      0.05      0.07       100\n",
      "          93       0.14      0.08      0.10       100\n",
      "          94       0.32      0.24      0.27       100\n",
      "          95       0.31      0.30      0.31       100\n",
      "          96       0.15      0.16      0.15       100\n",
      "          97       0.07      0.17      0.10       100\n",
      "          98       0.09      0.12      0.10       100\n",
      "          99       0.07      0.03      0.04       100\n",
      "\n",
      "    accuracy                           0.16     10000\n",
      "   macro avg       0.17      0.16      0.14     10000\n",
      "weighted avg       0.17      0.16      0.14     10000\n",
      "\n"
     ]
    },
    {
     "name": "stderr",
     "output_type": "stream",
     "text": [
      "C:\\Users\\rache\\Anaconda3\\lib\\site-packages\\sklearn\\metrics\\_classification.py:1318: UndefinedMetricWarning: Precision and F-score are ill-defined and being set to 0.0 in labels with no predicted samples. Use `zero_division` parameter to control this behavior.\n",
      "  _warn_prf(average, modifier, msg_start, len(result))\n",
      "C:\\Users\\rache\\Anaconda3\\lib\\site-packages\\sklearn\\metrics\\_classification.py:1318: UndefinedMetricWarning: Precision and F-score are ill-defined and being set to 0.0 in labels with no predicted samples. Use `zero_division` parameter to control this behavior.\n",
      "  _warn_prf(average, modifier, msg_start, len(result))\n",
      "C:\\Users\\rache\\Anaconda3\\lib\\site-packages\\sklearn\\metrics\\_classification.py:1318: UndefinedMetricWarning: Precision and F-score are ill-defined and being set to 0.0 in labels with no predicted samples. Use `zero_division` parameter to control this behavior.\n",
      "  _warn_prf(average, modifier, msg_start, len(result))\n"
     ]
    }
   ],
   "source": [
    "print(classification_report(y_test, y_pred_classes))"
   ]
  },
  {
   "cell_type": "markdown",
   "id": "f79fc0c2",
   "metadata": {},
   "source": [
    "## CNN model"
   ]
  },
  {
   "cell_type": "code",
   "execution_count": 44,
   "id": "ab0e38f3",
   "metadata": {},
   "outputs": [],
   "source": [
    "cnn = models.Sequential([\n",
    "                         layers.Conv2D(filters=128, kernel_size=(3,3), strides=(1,1), padding='same', \n",
    "                                       activation='relu', input_shape=(32,32,3)),\n",
    "                         layers.MaxPool2D((2,2)),\n",
    "\n",
    "                         layers.Conv2D(filters=256, kernel_size=(3,3), activation='relu'),\n",
    "                         layers.MaxPool2D((2,2)),\n",
    "                        \n",
    "    \n",
    "\n",
    "                         layers.Flatten(),\n",
    "                         layers.Dense(512, activation='relu'), layers.Dropout(0.1),\n",
    "            \n",
    "                         layers.Dense(100, activation='softmax')\n",
    "])"
   ]
  },
  {
   "cell_type": "code",
   "execution_count": 45,
   "id": "975e20ea",
   "metadata": {},
   "outputs": [],
   "source": [
    "cnn.compile(optimizer='RMSprop',\n",
    "            loss='sparse_categorical_crossentropy', \n",
    "            metrics = ['accuracy'])"
   ]
  },
  {
   "cell_type": "code",
   "execution_count": 46,
   "id": "a30a53cd",
   "metadata": {},
   "outputs": [
    {
     "name": "stdout",
     "output_type": "stream",
     "text": [
      "Epoch 1/6\n",
      "1563/1563 [==============================] - 231s 147ms/step - loss: 3.4043 - accuracy: 0.2041 - val_loss: 2.8668 - val_accuracy: 0.2996\n",
      "Epoch 2/6\n",
      "1563/1563 [==============================] - 225s 144ms/step - loss: 2.5388 - accuracy: 0.3638 - val_loss: 2.7196 - val_accuracy: 0.3299\n",
      "Epoch 3/6\n",
      "1563/1563 [==============================] - 343s 219ms/step - loss: 2.1340 - accuracy: 0.4507 - val_loss: 2.3975 - val_accuracy: 0.4082\n",
      "Epoch 4/6\n",
      "1563/1563 [==============================] - 220s 141ms/step - loss: 1.8312 - accuracy: 0.5251 - val_loss: 2.8395 - val_accuracy: 0.3310\n",
      "Epoch 5/6\n",
      "1563/1563 [==============================] - 209s 134ms/step - loss: 1.5979 - accuracy: 0.5809 - val_loss: 2.8350 - val_accuracy: 0.4060\n",
      "Epoch 6/6\n",
      "1563/1563 [==============================] - 208s 133ms/step - loss: 1.4182 - accuracy: 0.6271 - val_loss: 2.8518 - val_accuracy: 0.3861\n"
     ]
    },
    {
     "data": {
      "text/plain": [
       "<keras.callbacks.History at 0x15d6fd98310>"
      ]
     },
     "execution_count": 46,
     "metadata": {},
     "output_type": "execute_result"
    }
   ],
   "source": [
    "cnn.fit(X_train, y_train, epochs=6, validation_data=(X_test, y_test))"
   ]
  },
  {
   "cell_type": "code",
   "execution_count": 47,
   "id": "76983cb0",
   "metadata": {},
   "outputs": [
    {
     "name": "stdout",
     "output_type": "stream",
     "text": [
      "Model: \"sequential_6\"\n",
      "_________________________________________________________________\n",
      " Layer (type)                Output Shape              Param #   \n",
      "=================================================================\n",
      " conv2d_6 (Conv2D)           (None, 32, 32, 128)       3584      \n",
      "                                                                 \n",
      " max_pooling2d_6 (MaxPooling  (None, 16, 16, 128)      0         \n",
      " 2D)                                                             \n",
      "                                                                 \n",
      " conv2d_7 (Conv2D)           (None, 14, 14, 256)       295168    \n",
      "                                                                 \n",
      " max_pooling2d_7 (MaxPooling  (None, 7, 7, 256)        0         \n",
      " 2D)                                                             \n",
      "                                                                 \n",
      " flatten_6 (Flatten)         (None, 12544)             0         \n",
      "                                                                 \n",
      " dense_15 (Dense)            (None, 512)               6423040   \n",
      "                                                                 \n",
      " dropout_4 (Dropout)         (None, 512)               0         \n",
      "                                                                 \n",
      " dense_16 (Dense)            (None, 100)               51300     \n",
      "                                                                 \n",
      "=================================================================\n",
      "Total params: 6,773,092\n",
      "Trainable params: 6,773,092\n",
      "Non-trainable params: 0\n",
      "_________________________________________________________________\n"
     ]
    }
   ],
   "source": [
    "cnn.summary()"
   ]
  },
  {
   "cell_type": "code",
   "execution_count": null,
   "id": "f2356852",
   "metadata": {},
   "outputs": [],
   "source": []
  }
 ],
 "metadata": {
  "kernelspec": {
   "display_name": "Python 3",
   "language": "python",
   "name": "python3"
  },
  "language_info": {
   "codemirror_mode": {
    "name": "ipython",
    "version": 3
   },
   "file_extension": ".py",
   "mimetype": "text/x-python",
   "name": "python",
   "nbconvert_exporter": "python",
   "pygments_lexer": "ipython3",
   "version": "3.8.8"
  }
 },
 "nbformat": 4,
 "nbformat_minor": 5
}
