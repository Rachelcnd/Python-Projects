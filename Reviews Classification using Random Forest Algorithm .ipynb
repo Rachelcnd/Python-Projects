{
 "cells": [
  {
   "cell_type": "markdown",
   "id": "19e51a7f",
   "metadata": {},
   "source": [
    "# Reviews Classification"
   ]
  },
  {
   "cell_type": "code",
   "execution_count": 1,
   "id": "337b62cf",
   "metadata": {},
   "outputs": [],
   "source": [
    "import numpy as np\n",
    "import pandas as pd\n",
    "import matplotlib.pyplot as plt\n",
    "import seaborn as sns\n",
    "import nltk"
   ]
  },
  {
   "cell_type": "code",
   "execution_count": 2,
   "id": "51c24a6f",
   "metadata": {},
   "outputs": [],
   "source": [
    "df_reviews = pd.read_csv('Reviews.csv')"
   ]
  },
  {
   "cell_type": "code",
   "execution_count": 3,
   "id": "f0250675",
   "metadata": {},
   "outputs": [
    {
     "data": {
      "text/html": [
       "<div>\n",
       "<style scoped>\n",
       "    .dataframe tbody tr th:only-of-type {\n",
       "        vertical-align: middle;\n",
       "    }\n",
       "\n",
       "    .dataframe tbody tr th {\n",
       "        vertical-align: top;\n",
       "    }\n",
       "\n",
       "    .dataframe thead th {\n",
       "        text-align: right;\n",
       "    }\n",
       "</style>\n",
       "<table border=\"1\" class=\"dataframe\">\n",
       "  <thead>\n",
       "    <tr style=\"text-align: right;\">\n",
       "      <th></th>\n",
       "      <th>Id</th>\n",
       "      <th>ProductId</th>\n",
       "      <th>UserId</th>\n",
       "      <th>ProfileName</th>\n",
       "      <th>HelpfulnessNumerator</th>\n",
       "      <th>HelpfulnessDenominator</th>\n",
       "      <th>Score</th>\n",
       "      <th>Time</th>\n",
       "      <th>Summary</th>\n",
       "      <th>Text</th>\n",
       "    </tr>\n",
       "  </thead>\n",
       "  <tbody>\n",
       "    <tr>\n",
       "      <th>0</th>\n",
       "      <td>1</td>\n",
       "      <td>B001E4KFG0</td>\n",
       "      <td>A3SGXH7AUHU8GW</td>\n",
       "      <td>delmartian</td>\n",
       "      <td>1</td>\n",
       "      <td>1</td>\n",
       "      <td>5</td>\n",
       "      <td>1303862400</td>\n",
       "      <td>Good Quality Dog Food</td>\n",
       "      <td>I have bought several of the Vitality canned d...</td>\n",
       "    </tr>\n",
       "    <tr>\n",
       "      <th>1</th>\n",
       "      <td>2</td>\n",
       "      <td>B00813GRG4</td>\n",
       "      <td>A1D87F6ZCVE5NK</td>\n",
       "      <td>dll pa</td>\n",
       "      <td>0</td>\n",
       "      <td>0</td>\n",
       "      <td>1</td>\n",
       "      <td>1346976000</td>\n",
       "      <td>Not as Advertised</td>\n",
       "      <td>Product arrived labeled as Jumbo Salted Peanut...</td>\n",
       "    </tr>\n",
       "    <tr>\n",
       "      <th>2</th>\n",
       "      <td>3</td>\n",
       "      <td>B000LQOCH0</td>\n",
       "      <td>ABXLMWJIXXAIN</td>\n",
       "      <td>Natalia Corres \"Natalia Corres\"</td>\n",
       "      <td>1</td>\n",
       "      <td>1</td>\n",
       "      <td>4</td>\n",
       "      <td>1219017600</td>\n",
       "      <td>\"Delight\" says it all</td>\n",
       "      <td>This is a confection that has been around a fe...</td>\n",
       "    </tr>\n",
       "    <tr>\n",
       "      <th>3</th>\n",
       "      <td>4</td>\n",
       "      <td>B000UA0QIQ</td>\n",
       "      <td>A395BORC6FGVXV</td>\n",
       "      <td>Karl</td>\n",
       "      <td>3</td>\n",
       "      <td>3</td>\n",
       "      <td>2</td>\n",
       "      <td>1307923200</td>\n",
       "      <td>Cough Medicine</td>\n",
       "      <td>If you are looking for the secret ingredient i...</td>\n",
       "    </tr>\n",
       "    <tr>\n",
       "      <th>4</th>\n",
       "      <td>5</td>\n",
       "      <td>B006K2ZZ7K</td>\n",
       "      <td>A1UQRSCLF8GW1T</td>\n",
       "      <td>Michael D. Bigham \"M. Wassir\"</td>\n",
       "      <td>0</td>\n",
       "      <td>0</td>\n",
       "      <td>5</td>\n",
       "      <td>1350777600</td>\n",
       "      <td>Great taffy</td>\n",
       "      <td>Great taffy at a great price.  There was a wid...</td>\n",
       "    </tr>\n",
       "  </tbody>\n",
       "</table>\n",
       "</div>"
      ],
      "text/plain": [
       "   Id   ProductId          UserId                      ProfileName  \\\n",
       "0   1  B001E4KFG0  A3SGXH7AUHU8GW                       delmartian   \n",
       "1   2  B00813GRG4  A1D87F6ZCVE5NK                           dll pa   \n",
       "2   3  B000LQOCH0   ABXLMWJIXXAIN  Natalia Corres \"Natalia Corres\"   \n",
       "3   4  B000UA0QIQ  A395BORC6FGVXV                             Karl   \n",
       "4   5  B006K2ZZ7K  A1UQRSCLF8GW1T    Michael D. Bigham \"M. Wassir\"   \n",
       "\n",
       "   HelpfulnessNumerator  HelpfulnessDenominator  Score        Time  \\\n",
       "0                     1                       1      5  1303862400   \n",
       "1                     0                       0      1  1346976000   \n",
       "2                     1                       1      4  1219017600   \n",
       "3                     3                       3      2  1307923200   \n",
       "4                     0                       0      5  1350777600   \n",
       "\n",
       "                 Summary                                               Text  \n",
       "0  Good Quality Dog Food  I have bought several of the Vitality canned d...  \n",
       "1      Not as Advertised  Product arrived labeled as Jumbo Salted Peanut...  \n",
       "2  \"Delight\" says it all  This is a confection that has been around a fe...  \n",
       "3         Cough Medicine  If you are looking for the secret ingredient i...  \n",
       "4            Great taffy  Great taffy at a great price.  There was a wid...  "
      ]
     },
     "execution_count": 3,
     "metadata": {},
     "output_type": "execute_result"
    }
   ],
   "source": [
    "df_reviews.head()"
   ]
  },
  {
   "cell_type": "markdown",
   "id": "2026aad2",
   "metadata": {},
   "source": [
    "**1)      Extract only those two columns from the data set.**"
   ]
  },
  {
   "cell_type": "code",
   "execution_count": 4,
   "id": "a4e940f0",
   "metadata": {},
   "outputs": [],
   "source": [
    "df = df_reviews[['Score', 'Text']]"
   ]
  },
  {
   "cell_type": "code",
   "execution_count": 5,
   "id": "8ed38ce9",
   "metadata": {},
   "outputs": [
    {
     "data": {
      "text/html": [
       "<div>\n",
       "<style scoped>\n",
       "    .dataframe tbody tr th:only-of-type {\n",
       "        vertical-align: middle;\n",
       "    }\n",
       "\n",
       "    .dataframe tbody tr th {\n",
       "        vertical-align: top;\n",
       "    }\n",
       "\n",
       "    .dataframe thead th {\n",
       "        text-align: right;\n",
       "    }\n",
       "</style>\n",
       "<table border=\"1\" class=\"dataframe\">\n",
       "  <thead>\n",
       "    <tr style=\"text-align: right;\">\n",
       "      <th></th>\n",
       "      <th>Score</th>\n",
       "      <th>Text</th>\n",
       "    </tr>\n",
       "  </thead>\n",
       "  <tbody>\n",
       "    <tr>\n",
       "      <th>0</th>\n",
       "      <td>5</td>\n",
       "      <td>I have bought several of the Vitality canned d...</td>\n",
       "    </tr>\n",
       "    <tr>\n",
       "      <th>1</th>\n",
       "      <td>1</td>\n",
       "      <td>Product arrived labeled as Jumbo Salted Peanut...</td>\n",
       "    </tr>\n",
       "    <tr>\n",
       "      <th>2</th>\n",
       "      <td>4</td>\n",
       "      <td>This is a confection that has been around a fe...</td>\n",
       "    </tr>\n",
       "    <tr>\n",
       "      <th>3</th>\n",
       "      <td>2</td>\n",
       "      <td>If you are looking for the secret ingredient i...</td>\n",
       "    </tr>\n",
       "    <tr>\n",
       "      <th>4</th>\n",
       "      <td>5</td>\n",
       "      <td>Great taffy at a great price.  There was a wid...</td>\n",
       "    </tr>\n",
       "    <tr>\n",
       "      <th>...</th>\n",
       "      <td>...</td>\n",
       "      <td>...</td>\n",
       "    </tr>\n",
       "    <tr>\n",
       "      <th>568449</th>\n",
       "      <td>5</td>\n",
       "      <td>Great for sesame chicken..this is a good if no...</td>\n",
       "    </tr>\n",
       "    <tr>\n",
       "      <th>568450</th>\n",
       "      <td>2</td>\n",
       "      <td>I'm disappointed with the flavor. The chocolat...</td>\n",
       "    </tr>\n",
       "    <tr>\n",
       "      <th>568451</th>\n",
       "      <td>5</td>\n",
       "      <td>These stars are small, so you can give 10-15 o...</td>\n",
       "    </tr>\n",
       "    <tr>\n",
       "      <th>568452</th>\n",
       "      <td>5</td>\n",
       "      <td>These are the BEST treats for training and rew...</td>\n",
       "    </tr>\n",
       "    <tr>\n",
       "      <th>568453</th>\n",
       "      <td>5</td>\n",
       "      <td>I am very satisfied ,product is as advertised,...</td>\n",
       "    </tr>\n",
       "  </tbody>\n",
       "</table>\n",
       "<p>568454 rows × 2 columns</p>\n",
       "</div>"
      ],
      "text/plain": [
       "        Score                                               Text\n",
       "0           5  I have bought several of the Vitality canned d...\n",
       "1           1  Product arrived labeled as Jumbo Salted Peanut...\n",
       "2           4  This is a confection that has been around a fe...\n",
       "3           2  If you are looking for the secret ingredient i...\n",
       "4           5  Great taffy at a great price.  There was a wid...\n",
       "...       ...                                                ...\n",
       "568449      5  Great for sesame chicken..this is a good if no...\n",
       "568450      2  I'm disappointed with the flavor. The chocolat...\n",
       "568451      5  These stars are small, so you can give 10-15 o...\n",
       "568452      5  These are the BEST treats for training and rew...\n",
       "568453      5  I am very satisfied ,product is as advertised,...\n",
       "\n",
       "[568454 rows x 2 columns]"
      ]
     },
     "execution_count": 5,
     "metadata": {},
     "output_type": "execute_result"
    }
   ],
   "source": [
    "df"
   ]
  },
  {
   "cell_type": "markdown",
   "id": "bd2585ce",
   "metadata": {},
   "source": [
    "**2)      Find how many reviews are labeled as 1, as 2, as 3, etc. and plot the bar chart showing these counts.**"
   ]
  },
  {
   "cell_type": "code",
   "execution_count": 6,
   "id": "08fcd438",
   "metadata": {},
   "outputs": [
    {
     "data": {
      "text/plain": [
       "5    363122\n",
       "4     80655\n",
       "1     52268\n",
       "3     42640\n",
       "2     29769\n",
       "Name: Score, dtype: int64"
      ]
     },
     "execution_count": 6,
     "metadata": {},
     "output_type": "execute_result"
    }
   ],
   "source": [
    "counts = df['Score'].value_counts()\n",
    "counts"
   ]
  },
  {
   "cell_type": "code",
   "execution_count": 7,
   "id": "c3b2e0fd",
   "metadata": {},
   "outputs": [
    {
     "data": {
      "text/plain": [
       "Text(0, 0.5, 'Count')"
      ]
     },
     "execution_count": 7,
     "metadata": {},
     "output_type": "execute_result"
    },
    {
     "data": {
      "image/png": "[encoded data removed]",
      "text/plain": [
       "<Figure size 432x288 with 1 Axes>"
      ]
     },
     "metadata": {
      "needs_background": "light"
     },
     "output_type": "display_data"
    }
   ],
   "source": [
    "counts.plot(kind= 'bar')\n",
    "plt.xticks(rotation = 0)\n",
    "plt.title('Score distribution')\n",
    "plt.xlabel('Score')\n",
    "plt.ylabel('Count')"
   ]
  },
  {
   "cell_type": "markdown",
   "id": "209cba10",
   "metadata": {},
   "source": [
    "**3)      Preprocess the text data by removing stop words, punctuation, etc.**"
   ]
  },
  {
   "cell_type": "code",
   "execution_count": 8,
   "id": "fb54ef89",
   "metadata": {},
   "outputs": [],
   "source": [
    "X = df['Text']\n"
   ]
  },
  {
   "cell_type": "code",
   "execution_count": 9,
   "id": "33be35a5",
   "metadata": {},
   "outputs": [],
   "source": [
    "from nltk.corpus import stopwords\n",
    "from nltk.stem.wordnet import WordNetLemmatizer\n",
    "import string"
   ]
  },
  {
   "cell_type": "code",
   "execution_count": 10,
   "id": "fb153f32",
   "metadata": {},
   "outputs": [
    {
     "data": {
      "text/plain": [
       "['i',\n",
       " 'me',\n",
       " 'my',\n",
       " 'myself',\n",
       " 'we',\n",
       " 'our',\n",
       " 'ours',\n",
       " 'ourselves',\n",
       " 'you',\n",
       " \"you're\",\n",
       " \"you've\",\n",
       " \"you'll\",\n",
       " \"you'd\",\n",
       " 'your',\n",
       " 'yours',\n",
       " 'yourself',\n",
       " 'yourselves',\n",
       " 'he',\n",
       " 'him',\n",
       " 'his',\n",
       " 'himself',\n",
       " 'she',\n",
       " \"she's\",\n",
       " 'her',\n",
       " 'hers',\n",
       " 'herself',\n",
       " 'it',\n",
       " \"it's\",\n",
       " 'its',\n",
       " 'itself',\n",
       " 'they',\n",
       " 'them',\n",
       " 'their',\n",
       " 'theirs',\n",
       " 'themselves',\n",
       " 'what',\n",
       " 'which',\n",
       " 'who',\n",
       " 'whom',\n",
       " 'this',\n",
       " 'that',\n",
       " \"that'll\",\n",
       " 'these',\n",
       " 'those',\n",
       " 'am',\n",
       " 'is',\n",
       " 'are',\n",
       " 'was',\n",
       " 'were',\n",
       " 'be',\n",
       " 'been',\n",
       " 'being',\n",
       " 'have',\n",
       " 'has',\n",
       " 'had',\n",
       " 'having',\n",
       " 'do',\n",
       " 'does',\n",
       " 'did',\n",
       " 'doing',\n",
       " 'a',\n",
       " 'an',\n",
       " 'the',\n",
       " 'and',\n",
       " 'but',\n",
       " 'if',\n",
       " 'or',\n",
       " 'because',\n",
       " 'as',\n",
       " 'until',\n",
       " 'while',\n",
       " 'of',\n",
       " 'at',\n",
       " 'by',\n",
       " 'for',\n",
       " 'with',\n",
       " 'about',\n",
       " 'against',\n",
       " 'between',\n",
       " 'into',\n",
       " 'through',\n",
       " 'during',\n",
       " 'before',\n",
       " 'after',\n",
       " 'above',\n",
       " 'below',\n",
       " 'to',\n",
       " 'from',\n",
       " 'up',\n",
       " 'down',\n",
       " 'in',\n",
       " 'out',\n",
       " 'on',\n",
       " 'off',\n",
       " 'over',\n",
       " 'under',\n",
       " 'again',\n",
       " 'further',\n",
       " 'then',\n",
       " 'once',\n",
       " 'here',\n",
       " 'there',\n",
       " 'when',\n",
       " 'where',\n",
       " 'why',\n",
       " 'how',\n",
       " 'all',\n",
       " 'any',\n",
       " 'both',\n",
       " 'each',\n",
       " 'few',\n",
       " 'more',\n",
       " 'most',\n",
       " 'other',\n",
       " 'some',\n",
       " 'such',\n",
       " 'only',\n",
       " 'own',\n",
       " 'same',\n",
       " 'so',\n",
       " 'than',\n",
       " 'too',\n",
       " 'very',\n",
       " 's',\n",
       " 't',\n",
       " 'can',\n",
       " 'will',\n",
       " 'just',\n",
       " 'should',\n",
       " \"should've\",\n",
       " 'now',\n",
       " 'd',\n",
       " 'll',\n",
       " 'm',\n",
       " 'o',\n",
       " 're',\n",
       " 've',\n",
       " 'y',\n",
       " 'ma']"
      ]
     },
     "execution_count": 10,
     "metadata": {},
     "output_type": "execute_result"
    }
   ],
   "source": [
    "stop = stopwords.words('english')\n",
    "negative_words = ['no','nor','not',\"can'\", 'don',\"don't\",'ain','aren',\"aren't\",'couldn',\n",
    "                  'couldn',\"couldn't\",'didn',\"didn't\",'doesn',\"doesn't\",\n",
    "                  'hadn',\"hadn't\",'hasn',\"hasn't\",'haven',\"haven't\",'isn',\n",
    "                  \"isn't\",'mightn',\"mightn't\",'mustn',\"mustn't\",'needn',\n",
    "                  \"needn't\", 'shan',\"shan't\",'shouldn',\"shouldn't\",'wasn',\n",
    "                  \"wasn't\",'weren',\"weren't\",'won',\"won't\",'wouldn',\"wouldn't\"]\n",
    "\n",
    "new_stop = []\n",
    "for w in stop:\n",
    "    if w not in negative_words:\n",
    "        new_stop.append(w)\n",
    "new_stop"
   ]
  },
  {
   "cell_type": "code",
   "execution_count": 11,
   "id": "e54c78cd",
   "metadata": {},
   "outputs": [],
   "source": [
    "punct = string.punctuation\n",
    "wnl = WordNetLemmatizer()"
   ]
  },
  {
   "cell_type": "code",
   "execution_count": 12,
   "id": "88429eb0",
   "metadata": {},
   "outputs": [],
   "source": [
    "def clean(doc):\n",
    "    stop_free = ' '.join([i for i in doc.lower().split() if i not in new_stop])\n",
    "    punct_free= ''.join(ch for ch in stop_free if ch not in punct)\n",
    "    normalized = ' '.join(wnl.lemmatize(word) for word in punct_free.split())\n",
    "    return normalized"
   ]
  },
  {
   "cell_type": "code",
   "execution_count": 13,
   "id": "5e8f73e1",
   "metadata": {},
   "outputs": [],
   "source": [
    "X_reviews = [clean(doc) for doc in X]"
   ]
  },
  {
   "cell_type": "markdown",
   "id": "398a6f8a",
   "metadata": {},
   "source": [
    "**4)      Use CountVectorizer or TfidfVectorizer to build the bag-of-words model.**"
   ]
  },
  {
   "cell_type": "code",
   "execution_count": 14,
   "id": "cc20bfd6",
   "metadata": {},
   "outputs": [],
   "source": [
    "from sklearn.feature_extraction.text import TfidfVectorizer\n",
    "tfidf_vec = TfidfVectorizer(max_features = 1000, min_df = 7, max_df = 0.8)\n",
    "X_vec = tfidf_vec.fit_transform(X_reviews)"
   ]
  },
  {
   "cell_type": "markdown",
   "id": "2d339b2d",
   "metadata": {},
   "source": [
    "**5)      Define X (features) and y (labels) for a supervised machine learning model.**"
   ]
  },
  {
   "cell_type": "code",
   "execution_count": 15,
   "id": "b083d027",
   "metadata": {},
   "outputs": [],
   "source": [
    "X = X_vec\n",
    "y = df['Score'] "
   ]
  },
  {
   "cell_type": "markdown",
   "id": "8531b33f",
   "metadata": {},
   "source": [
    "**6)      Split the data set into training and testing.**"
   ]
  },
  {
   "cell_type": "code",
   "execution_count": 16,
   "id": "7ec73864",
   "metadata": {},
   "outputs": [],
   "source": [
    "from sklearn.model_selection import train_test_split\n",
    "X_train, X_test, y_train, y_test = train_test_split(X, y, test_size = 0.3, random_state = 45)"
   ]
  },
  {
   "cell_type": "markdown",
   "id": "2cb4c8fb",
   "metadata": {},
   "source": [
    "**7)      Use any multiclass classifier to classify the reviews in the training set according to their labels (1, 2, 3, 4, 5).**"
   ]
  },
  {
   "cell_type": "code",
   "execution_count": 55,
   "id": "a38d3d9e",
   "metadata": {},
   "outputs": [
    {
     "data": {
      "text/plain": [
       "RandomForestClassifier(n_estimators=5)"
      ]
     },
     "execution_count": 55,
     "metadata": {},
     "output_type": "execute_result"
    }
   ],
   "source": [
    "from sklearn.ensemble import RandomForestClassifier\n",
    "forest_model = RandomForestClassifier(n_estimators= 5)\n",
    "forest_model.fit(X_train, y_train)"
   ]
  },
  {
   "cell_type": "markdown",
   "id": "55c5431a",
   "metadata": {},
   "source": [
    "**8)      What is the accuracy of your classifier on the testing data?**"
   ]
  },
  {
   "cell_type": "code",
   "execution_count": 27,
   "id": "1ab805fb",
   "metadata": {},
   "outputs": [],
   "source": [
    "from sklearn.metrics import classification_report, confusion_matrix, accuracy_score\n"
   ]
  },
  {
   "cell_type": "code",
   "execution_count": 58,
   "id": "bab5b563",
   "metadata": {},
   "outputs": [],
   "source": [
    "y_predictions = forest_model.predict(X_test)"
   ]
  },
  {
   "cell_type": "code",
   "execution_count": 59,
   "id": "b1d02461",
   "metadata": {},
   "outputs": [
    {
     "name": "stdout",
     "output_type": "stream",
     "text": [
      "Accuracy score: 0.7663322328878777\n"
     ]
    }
   ],
   "source": [
    "print('Accuracy score:', forest_model.score(X_test, y_test))"
   ]
  },
  {
   "cell_type": "code",
   "execution_count": 61,
   "id": "031a0987",
   "metadata": {},
   "outputs": [
    {
     "name": "stdout",
     "output_type": "stream",
     "text": [
      "[[  9711    561    587    800   4092]\n",
      " [  1423   3696    564    655   2556]\n",
      " [  1217    431   5703   1303   4160]\n",
      " [   994    423   1023  11179  10433]\n",
      " [  2412    712   1448   4055 100399]]\n"
     ]
    }
   ],
   "source": [
    "print(confusion_matrix(y_test, y_predictions))"
   ]
  },
  {
   "cell_type": "code",
   "execution_count": 62,
   "id": "8ac7657b",
   "metadata": {},
   "outputs": [
    {
     "name": "stdout",
     "output_type": "stream",
     "text": [
      "              precision    recall  f1-score   support\n",
      "\n",
      "           1       0.62      0.62      0.62     15751\n",
      "           2       0.63      0.42      0.50      8894\n",
      "           3       0.61      0.45      0.52     12814\n",
      "           4       0.62      0.46      0.53     24052\n",
      "           5       0.83      0.92      0.87    109026\n",
      "\n",
      "    accuracy                           0.77    170537\n",
      "   macro avg       0.66      0.57      0.61    170537\n",
      "weighted avg       0.75      0.77      0.75    170537\n",
      "\n"
     ]
    }
   ],
   "source": [
    "print(classification_report(y_test, y_predictions))"
   ]
  },
  {
   "cell_type": "markdown",
   "id": "ddf2685a",
   "metadata": {},
   "source": [
    "**9)      You can also reduce the problem to binary classification, by combining scores 1, 2, 3, 4, and 5 into just two classes (0, 1). Define a new column (maybe call it “Positivity”), so that reviews with scores 1, 2, 3 are labeled as “0” and scores 4 and 5 are labeled as “1”.  This way you will have only two labels “0” (bad review) and “1” (good review).**"
   ]
  },
  {
   "cell_type": "code",
   "execution_count": 22,
   "id": "0326b945",
   "metadata": {},
   "outputs": [
    {
     "name": "stderr",
     "output_type": "stream",
     "text": [
      "<ipython-input-22-51a6bd2b2ba8>:8: SettingWithCopyWarning: \n",
      "A value is trying to be set on a copy of a slice from a DataFrame.\n",
      "Try using .loc[row_indexer,col_indexer] = value instead\n",
      "\n",
      "See the caveats in the documentation: https://pandas.pydata.org/pandas-docs/stable/user_guide/indexing.html#returning-a-view-versus-a-copy\n",
      "  df['Positivity'] = positivity\n"
     ]
    }
   ],
   "source": [
    "positivity = []\n",
    "for i in df['Score']:\n",
    "    if i <= 3:\n",
    "        positivity.append(0)\n",
    "    else:\n",
    "        positivity.append(1)\n",
    "\n",
    "df['Positivity'] = positivity"
   ]
  },
  {
   "cell_type": "markdown",
   "id": "423803e7",
   "metadata": {},
   "source": [
    "**10)   Split the data set into training and testing.**"
   ]
  },
  {
   "cell_type": "code",
   "execution_count": 23,
   "id": "bd4bddc5",
   "metadata": {},
   "outputs": [],
   "source": [
    "X_train, X_test, y_train, y_test = train_test_split(X_vec, df['Positivity'], test_size = 0.3, random_state = 45)"
   ]
  },
  {
   "cell_type": "markdown",
   "id": "feb59974",
   "metadata": {},
   "source": [
    "**11)   Use any binary classifier to separate “bad” and “good” reviews.**"
   ]
  },
  {
   "cell_type": "code",
   "execution_count": 24,
   "id": "663e9e72",
   "metadata": {},
   "outputs": [],
   "source": [
    "from sklearn.linear_model import LogisticRegression\n",
    "binary_model = LogisticRegression(max_iter = 10000)\n",
    "binary_model.fit(X_train, y_train)\n",
    "y_pred = binary_model.predict(X_test)"
   ]
  },
  {
   "cell_type": "markdown",
   "id": "943b2d7d",
   "metadata": {},
   "source": [
    "**12)   What is the accuracy of your classifier on the testing data?**"
   ]
  },
  {
   "cell_type": "code",
   "execution_count": 25,
   "id": "36b5b10f",
   "metadata": {},
   "outputs": [
    {
     "name": "stdout",
     "output_type": "stream",
     "text": [
      "Accuracy score: 0.871318247653002\n"
     ]
    }
   ],
   "source": [
    "print('Accuracy score:', binary_model.score(X_test, y_test))"
   ]
  },
  {
   "cell_type": "code",
   "execution_count": 28,
   "id": "c61515f0",
   "metadata": {},
   "outputs": [
    {
     "name": "stdout",
     "output_type": "stream",
     "text": [
      "[[ 22353  15106]\n",
      " [  6839 126239]]\n"
     ]
    }
   ],
   "source": [
    "print(confusion_matrix(y_test, y_pred))"
   ]
  },
  {
   "cell_type": "code",
   "execution_count": 29,
   "id": "33f6c286",
   "metadata": {},
   "outputs": [
    {
     "name": "stdout",
     "output_type": "stream",
     "text": [
      "              precision    recall  f1-score   support\n",
      "\n",
      "           0       0.77      0.60      0.67     37459\n",
      "           1       0.89      0.95      0.92    133078\n",
      "\n",
      "    accuracy                           0.87    170537\n",
      "   macro avg       0.83      0.77      0.80    170537\n",
      "weighted avg       0.87      0.87      0.87    170537\n",
      "\n"
     ]
    }
   ],
   "source": [
    "print(classification_report(y_test, y_pred))"
   ]
  },
  {
   "cell_type": "code",
   "execution_count": null,
   "id": "1bd1d51d",
   "metadata": {},
   "outputs": [],
   "source": []
  }
 ],
 "metadata": {
  "kernelspec": {
   "display_name": "Python 3",
   "language": "python",
   "name": "python3"
  },
  "language_info": {
   "codemirror_mode": {
    "name": "ipython",
    "version": 3
   },
   "file_extension": ".py",
   "mimetype": "text/x-python",
   "name": "python",
   "nbconvert_exporter": "python",
   "pygments_lexer": "ipython3",
   "version": "3.8.8"
  }
 },
 "nbformat": 4,
 "nbformat_minor": 5
}
