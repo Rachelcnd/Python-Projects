{
 "cells": [
  {
   "cell_type": "markdown",
   "id": "fd827016",
   "metadata": {},
   "source": [
    "# Word Embeddings: Word2Vec and GloVe"
   ]
  },
  {
   "cell_type": "markdown",
   "id": "03704a98",
   "metadata": {},
   "source": [
    "# Word2Vec"
   ]
  },
  {
   "cell_type": "code",
   "execution_count": 5,
   "id": "dfcd218f",
   "metadata": {},
   "outputs": [],
   "source": [
    "import numpy as np\n",
    "from sklearn.manifold import TSNE  \n",
    "import matplotlib.pyplot as plt"
   ]
  },
  {
   "cell_type": "code",
   "execution_count": 6,
   "id": "bebf24e0",
   "metadata": {},
   "outputs": [
    {
     "name": "stdout",
     "output_type": "stream",
     "text": [
      "[==================================================] 100.0% 1662.8/1662.8MB downloaded\n"
     ]
    }
   ],
   "source": [
    "import gensim.downloader as api\n",
    "word2vec_model = api.load('word2vec-google-news-300')"
   ]
  },
  {
   "cell_type": "code",
   "execution_count": 7,
   "id": "ee9c9017",
   "metadata": {},
   "outputs": [
    {
     "data": {
      "text/plain": [
       "array([ 0.32617188,  0.13085938,  0.03466797, -0.08300781,  0.08984375,\n",
       "       -0.04125977, -0.19824219,  0.00689697,  0.14355469,  0.0019455 ,\n",
       "        0.02880859, -0.25      , -0.08398438, -0.15136719, -0.10205078,\n",
       "        0.04077148, -0.09765625,  0.05932617,  0.02978516, -0.10058594,\n",
       "       -0.13085938,  0.001297  ,  0.02612305, -0.27148438,  0.06396484,\n",
       "       -0.19140625, -0.078125  ,  0.25976562,  0.375     , -0.04541016,\n",
       "        0.16210938,  0.13671875, -0.06396484, -0.02062988, -0.09667969,\n",
       "        0.25390625,  0.24804688, -0.12695312,  0.07177734,  0.3203125 ,\n",
       "        0.03149414, -0.03857422,  0.21191406, -0.00811768,  0.22265625,\n",
       "       -0.13476562, -0.07617188,  0.01049805, -0.05175781,  0.03808594,\n",
       "       -0.13378906,  0.125     ,  0.0559082 , -0.18261719,  0.08154297,\n",
       "       -0.08447266, -0.07763672, -0.04345703,  0.08105469, -0.01092529,\n",
       "        0.17480469,  0.30664062, -0.04321289, -0.01416016,  0.09082031,\n",
       "       -0.00927734, -0.03442383, -0.11523438,  0.12451172, -0.0246582 ,\n",
       "        0.08544922,  0.14355469, -0.27734375,  0.03662109, -0.11035156,\n",
       "        0.13085938, -0.01721191, -0.08056641, -0.00708008, -0.02954102,\n",
       "        0.30078125, -0.09033203,  0.03149414, -0.18652344, -0.11181641,\n",
       "        0.10253906, -0.25976562, -0.02209473,  0.16796875, -0.05322266,\n",
       "       -0.14550781, -0.01049805, -0.03039551, -0.03857422,  0.11523438,\n",
       "       -0.0062561 , -0.13964844,  0.08007812,  0.06103516, -0.15332031,\n",
       "       -0.11132812, -0.14160156,  0.19824219, -0.06933594,  0.29296875,\n",
       "       -0.16015625,  0.20898438,  0.00041771,  0.01831055, -0.20214844,\n",
       "        0.04760742,  0.05810547, -0.0123291 , -0.01989746, -0.00364685,\n",
       "       -0.0135498 , -0.08251953, -0.03149414,  0.00717163,  0.20117188,\n",
       "        0.08300781, -0.0480957 , -0.26367188, -0.09667969, -0.22558594,\n",
       "       -0.09667969,  0.06494141, -0.02502441,  0.08496094,  0.03198242,\n",
       "       -0.07568359, -0.25390625, -0.11669922, -0.01446533, -0.16015625,\n",
       "       -0.00701904, -0.05712891,  0.02807617, -0.09179688,  0.25195312,\n",
       "        0.24121094,  0.06640625,  0.12988281,  0.17089844, -0.13671875,\n",
       "        0.1875    , -0.10009766, -0.04199219, -0.12011719,  0.00524902,\n",
       "        0.15625   , -0.203125  , -0.07128906, -0.06103516,  0.01635742,\n",
       "        0.18261719,  0.03588867, -0.04248047,  0.16796875, -0.15039062,\n",
       "       -0.16992188,  0.01831055,  0.27734375, -0.01269531, -0.0390625 ,\n",
       "       -0.15429688,  0.18457031, -0.07910156,  0.09033203, -0.02709961,\n",
       "        0.08251953,  0.06738281, -0.16113281, -0.19628906, -0.15234375,\n",
       "       -0.04711914,  0.04760742,  0.05908203, -0.16894531, -0.14941406,\n",
       "        0.12988281,  0.04321289,  0.02624512, -0.1796875 , -0.19628906,\n",
       "        0.06445312,  0.08935547,  0.1640625 , -0.03808594, -0.09814453,\n",
       "       -0.01483154,  0.1875    ,  0.12792969,  0.22753906,  0.01818848,\n",
       "       -0.07958984, -0.11376953, -0.06933594, -0.15527344, -0.08105469,\n",
       "       -0.09277344, -0.11328125, -0.15136719, -0.08007812, -0.05126953,\n",
       "       -0.15332031,  0.11669922,  0.06835938,  0.0324707 , -0.33984375,\n",
       "       -0.08154297, -0.08349609,  0.04003906,  0.04907227, -0.24121094,\n",
       "       -0.13476562, -0.05932617,  0.12158203, -0.34179688,  0.16503906,\n",
       "        0.06176758, -0.18164062,  0.20117188, -0.07714844,  0.1640625 ,\n",
       "        0.00402832,  0.30273438, -0.10009766, -0.13671875, -0.05957031,\n",
       "        0.0625    , -0.21289062, -0.06542969,  0.1796875 , -0.07763672,\n",
       "       -0.01928711, -0.15039062, -0.00106049,  0.03417969,  0.03344727,\n",
       "        0.19335938,  0.01965332, -0.19921875, -0.10644531,  0.01525879,\n",
       "        0.00927734,  0.01416016, -0.02392578,  0.05883789,  0.02368164,\n",
       "        0.125     ,  0.04760742, -0.05566406,  0.11572266,  0.14746094,\n",
       "        0.1015625 , -0.07128906, -0.07714844, -0.12597656,  0.0291748 ,\n",
       "        0.09521484, -0.12402344, -0.109375  , -0.12890625,  0.16308594,\n",
       "        0.28320312, -0.03149414,  0.12304688, -0.23242188, -0.09375   ,\n",
       "       -0.12988281,  0.0135498 , -0.03881836, -0.08251953,  0.00897217,\n",
       "        0.16308594,  0.10546875, -0.13867188, -0.16503906, -0.03857422,\n",
       "        0.10839844, -0.10498047,  0.06396484,  0.38867188, -0.05981445,\n",
       "       -0.0612793 , -0.10449219, -0.16796875,  0.07177734,  0.13964844,\n",
       "        0.15527344, -0.03125   , -0.20214844, -0.12988281, -0.10058594,\n",
       "       -0.06396484, -0.08349609, -0.30273438, -0.08007812,  0.02099609],\n",
       "      dtype=float32)"
      ]
     },
     "execution_count": 7,
     "metadata": {},
     "output_type": "execute_result"
    }
   ],
   "source": [
    "word2vec_model['man']"
   ]
  },
  {
   "cell_type": "code",
   "execution_count": 8,
   "id": "6b4a74cf",
   "metadata": {},
   "outputs": [
    {
     "data": {
      "text/plain": [
       "[('boy', 0.8543269634246826),\n",
       " ('teenage_girl', 0.7927975654602051),\n",
       " ('woman', 0.7494640946388245),\n",
       " ('teenager', 0.7172499299049377),\n",
       " ('schoolgirl', 0.7075954675674438),\n",
       " ('teenaged_girl', 0.6650916337966919),\n",
       " ('daughter', 0.6489864587783813),\n",
       " ('mother', 0.6478164792060852),\n",
       " ('toddler', 0.6473966836929321),\n",
       " ('girls', 0.6154742240905762)]"
      ]
     },
     "execution_count": 8,
     "metadata": {},
     "output_type": "execute_result"
    }
   ],
   "source": [
    "word2vec_model.most_similar('girl')  # gives top 10 most similar words based on cosine similarity"
   ]
  },
  {
   "cell_type": "markdown",
   "id": "845d4a32",
   "metadata": {},
   "source": [
    "woman - girl + boy"
   ]
  },
  {
   "cell_type": "code",
   "execution_count": 9,
   "id": "96c6ea56",
   "metadata": {},
   "outputs": [
    {
     "data": {
      "text/plain": [
       "[('man', 0.862078845500946)]"
      ]
     },
     "execution_count": 9,
     "metadata": {},
     "output_type": "execute_result"
    }
   ],
   "source": [
    "word2vec_model.most_similar(positive=['woman', 'boy'], negative=['girl'], topn=1)\n",
    "\n",
    "# topn=1 means the #1 most similar word"
   ]
  },
  {
   "cell_type": "markdown",
   "id": "d0c8beb3",
   "metadata": {},
   "source": [
    "Paris - France + Spain"
   ]
  },
  {
   "cell_type": "code",
   "execution_count": 10,
   "id": "2ac5be68",
   "metadata": {},
   "outputs": [
    {
     "data": {
      "text/plain": [
       "[('Madrid', 0.7571903467178345)]"
      ]
     },
     "execution_count": 10,
     "metadata": {},
     "output_type": "execute_result"
    }
   ],
   "source": [
    "word2vec_model.most_similar(positive=['Paris', 'Spain'], negative=['France'], topn=1)"
   ]
  },
  {
   "cell_type": "code",
   "execution_count": 13,
   "id": "33436a73",
   "metadata": {},
   "outputs": [
    {
     "data": {
      "text/plain": [
       "[('Saigon', 0.6242673993110657)]"
      ]
     },
     "execution_count": 13,
     "metadata": {},
     "output_type": "execute_result"
    }
   ],
   "source": [
    "word2vec_model.most_similar(positive=['Paris', 'Vietnam'], negative=['France'], topn=1)"
   ]
  },
  {
   "cell_type": "code",
   "execution_count": 11,
   "id": "6cf4b9c7",
   "metadata": {},
   "outputs": [
    {
     "name": "stderr",
     "output_type": "stream",
     "text": [
      "C:\\Users\\rache\\Anaconda3\\lib\\site-packages\\sklearn\\manifold\\_t_sne.py:790: FutureWarning: The default learning rate in TSNE will change from 200.0 to 'auto' in 1.2.\n",
      "  warnings.warn(\n",
      "C:\\Users\\rache\\Anaconda3\\lib\\site-packages\\sklearn\\manifold\\_t_sne.py:982: FutureWarning: The PCA initialization in TSNE will change to have the standard deviation of PC1 equal to 1e-4 in 1.2. This will ensure better convergence.\n",
      "  warnings.warn(\n"
     ]
    },
    {
     "data": {
      "image/png": "[encoded data removed]",
      "text/plain": [
       "<Figure size 576x576 with 1 Axes>"
      ]
     },
     "metadata": {
      "needs_background": "light"
     },
     "output_type": "display_data"
    }
   ],
   "source": [
    "vocab = [\"boy\", \"girl\", \"man\", \"woman\", \"Paris\", \"France\", \"Spain\", \"Madrid\"]\n",
    "\n",
    "def tsne_plot(model):\n",
    "    labels = []\n",
    "    wordvecs = []\n",
    "\n",
    "    for word in vocab:\n",
    "        wordvecs.append(model[word])\n",
    "        labels.append(word)\n",
    "    \n",
    "    tsne_model = TSNE(perplexity=3, n_components=2, init='pca', random_state=42) \n",
    "    coordinates = tsne_model.fit_transform(wordvecs)                             \n",
    "    \n",
    "    x = []\n",
    "    y = []\n",
    "    for value in coordinates:\n",
    "        x.append(value[0])\n",
    "        y.append(value[1])\n",
    "        \n",
    "    plt.figure(figsize=(8,8)) \n",
    "    for i in range(len(x)):\n",
    "        plt.scatter(x[i],y[i])\n",
    "        plt.annotate(labels[i],\n",
    "                     xy=(x[i], y[i]),\n",
    "                     xytext=(2, 2),  \n",
    "                     textcoords='offset points',\n",
    "                     ha='right',\n",
    "                     va='bottom')\n",
    "    plt.show()\n",
    "\n",
    "tsne_plot(word2vec_model)"
   ]
  },
  {
   "cell_type": "markdown",
   "id": "5f55889e",
   "metadata": {},
   "source": [
    "# GloVe"
   ]
  },
  {
   "cell_type": "code",
   "execution_count": 12,
   "id": "81ed621c",
   "metadata": {},
   "outputs": [
    {
     "name": "stdout",
     "output_type": "stream",
     "text": [
      "[=================================================-] 98.2% 369.5/376.1MB downloaded"
     ]
    }
   ],
   "source": [
    "import gensim.downloader as api\n",
    "glove_model = api.load('glove-wiki-gigaword-300')\n",
    "\n",
    "# https://nlp.stanford.edu/projects/glove/"
   ]
  },
  {
   "cell_type": "code",
   "execution_count": 56,
   "id": "6e17acb7",
   "metadata": {
    "scrolled": true
   },
   "outputs": [
    {
     "data": {
      "text/plain": [
       "array([-0.29784  , -0.13255  , -0.14505  , -0.22752  , -0.027429 ,\n",
       "        0.11005  , -0.039245 , -0.0089607, -0.18866  , -1.1213   ,\n",
       "        0.34793  , -0.30056  , -0.50103  , -0.031383 , -0.032185 ,\n",
       "        0.018318 , -0.090429 , -0.14427  , -0.14306  , -0.057477 ,\n",
       "       -0.020931 ,  0.56276  , -0.018557 ,  0.15168  , -0.25586  ,\n",
       "       -0.081564 ,  0.2803   , -0.10585  , -0.16777  ,  0.21814  ,\n",
       "       -0.11845  ,  0.56475  , -0.12645  , -0.062461 , -0.68043  ,\n",
       "        0.10507  ,  0.24793  , -0.20249  , -0.30726  ,  0.42815  ,\n",
       "        0.38378  , -0.19371  , -0.075951 , -0.058287 , -0.067195 ,\n",
       "        0.2192   ,  0.56116  , -0.28156  , -0.13705  ,  0.45754  ,\n",
       "       -0.14671  , -0.18562  , -0.074146 ,  0.60737  ,  0.07952  ,\n",
       "        0.41023  ,  0.18377  , -0.08532  ,  0.43795  , -0.34727  ,\n",
       "        0.2077   ,  0.50454  ,  0.40244  ,  0.1095   , -0.48078  ,\n",
       "       -0.22372  , -0.54619  , -0.20782  ,  0.13751  , -0.16206  ,\n",
       "       -0.24835  ,  0.17124  ,  0.037355 ,  0.14547  , -0.056205 ,\n",
       "        0.2644   , -0.38029  ,  0.0029947,  0.051608 ,  0.21807  ,\n",
       "       -0.071087 ,  0.31543  ,  0.24593  ,  0.34444  , -0.36354  ,\n",
       "       -0.12137  , -0.013511 ,  0.049564 ,  0.031386 ,  0.10316  ,\n",
       "       -0.44301  ,  0.11663  , -0.055576 , -0.091434 , -0.070799 ,\n",
       "       -0.017031 ,  0.046024 ,  0.096063 ,  0.10148  , -0.33467  ,\n",
       "       -0.043516 ,  0.38271  ,  0.018411 ,  0.0049479,  0.35587  ,\n",
       "        0.40432  ,  0.4823   ,  0.12416  , -0.051926 , -0.081769 ,\n",
       "       -0.21542  ,  0.71766  , -0.0052553, -0.55428  ,  0.68033  ,\n",
       "        0.20255  , -0.19927  , -0.11563  ,  0.0030103, -0.74399  ,\n",
       "       -0.21086  ,  0.069584 , -0.20315  , -0.17027  , -0.11292  ,\n",
       "       -0.044594 , -0.2145   ,  0.26097  ,  0.36969  , -0.65155  ,\n",
       "        0.048649 ,  0.044304 , -0.26604  ,  0.23976  , -0.38281  ,\n",
       "       -0.02353  , -0.020519 , -0.52202  , -0.30595  ,  0.088525 ,\n",
       "        0.28395  ,  0.15056  ,  0.23202  ,  0.30538  , -0.53674  ,\n",
       "        0.21362  ,  0.10999  ,  0.4685   , -0.60017  , -0.13141  ,\n",
       "        0.18707  ,  0.11636  ,  0.24703  ,  0.17168  ,  0.40658  ,\n",
       "       -0.19039  ,  0.033278 , -0.26374  ,  0.28722  ,  0.27659  ,\n",
       "        0.30153  , -0.12622  ,  0.5225   ,  0.13887  , -0.15012  ,\n",
       "       -0.0038264, -0.074287 ,  0.46348  ,  0.26215  , -0.62671  ,\n",
       "        0.21841  , -0.26531  , -0.75294  , -0.36826  ,  0.072989 ,\n",
       "       -0.071807 ,  0.10612  , -0.087064 , -0.053871 ,  0.22379  ,\n",
       "        0.38538  ,  0.053972 ,  0.21208  ,  0.39662  , -0.38609  ,\n",
       "       -0.53     , -0.34169  ,  0.067624 ,  0.11835  ,  0.60372  ,\n",
       "        0.21744  , -0.12806  ,  0.13802  ,  0.22463  , -0.21566  ,\n",
       "       -0.25167  , -0.44859  , -0.39111  , -0.5259   ,  0.21266  ,\n",
       "        1.9729   ,  0.13851  ,  0.32966  ,  0.047626 , -0.37787  ,\n",
       "       -0.31769  , -0.1283   ,  0.34396  , -0.11061  , -0.23346  ,\n",
       "       -0.45134  ,  0.1605   , -0.32801  ,  0.033373 ,  0.42571  ,\n",
       "        0.42283  , -0.16932  ,  0.14068  ,  0.14087  ,  0.20856  ,\n",
       "       -0.24912  ,  0.38337  ,  0.43722  , -0.090575 ,  0.021208 ,\n",
       "       -0.22334  , -0.42596  , -0.47252  , -0.1995   ,  0.32459  ,\n",
       "        0.39765  , -0.091573 , -0.073528 , -0.20074  ,  0.22083  ,\n",
       "        0.011314 ,  0.11977  , -0.14888  , -0.27152  ,  0.28908  ,\n",
       "        0.20407  ,  0.098377 , -0.1424   , -0.059699 ,  0.032529 ,\n",
       "       -0.1877   ,  0.24643  , -0.1128   ,  0.14666  ,  0.076001 ,\n",
       "        0.31109  , -0.22119  ,  0.033051 ,  0.066731 ,  1.5449   ,\n",
       "       -0.11096  ,  0.26438  ,  0.1791   ,  0.039628 , -0.46497  ,\n",
       "        0.40052  , -0.057004 ,  0.11391  ,  0.42397  , -0.57411  ,\n",
       "        0.17205  ,  0.44401  , -0.030134 , -0.22061  ,  0.47222  ,\n",
       "       -0.12734  , -0.12288  ,  0.33832  ,  0.41698  ,  0.18355  ,\n",
       "        0.093473 , -1.9373   ,  0.053236 , -0.10361  ,  0.056681 ,\n",
       "       -0.12726  , -0.11681  ,  0.55039  ,  0.33644  ,  0.27706  ,\n",
       "        0.71184  , -0.1304   ,  0.26108  , -0.2481   ,  0.0032735,\n",
       "       -0.16505  ,  0.11827  , -0.26322  , -0.10169  ,  0.24275  ,\n",
       "        0.16927  , -0.15809  ,  0.27613  , -0.2832   ,  0.50554  ],\n",
       "      dtype=float32)"
      ]
     },
     "execution_count": 56,
     "metadata": {},
     "output_type": "execute_result"
    }
   ],
   "source": [
    "glove_model['man']"
   ]
  },
  {
   "cell_type": "code",
   "execution_count": 57,
   "id": "937e507b",
   "metadata": {},
   "outputs": [
    {
     "data": {
      "text/plain": [
       "[('boy', 0.8272891044616699),\n",
       " ('woman', 0.729641854763031),\n",
       " ('girls', 0.7227292060852051),\n",
       " ('teenager', 0.650977373123169),\n",
       " ('teenage', 0.6492719054222107),\n",
       " ('mother', 0.6417974829673767),\n",
       " ('boys', 0.6283578872680664),\n",
       " ('child', 0.6229295134544373),\n",
       " ('teen', 0.6125240921974182),\n",
       " ('daughter', 0.6050207614898682)]"
      ]
     },
     "execution_count": 57,
     "metadata": {},
     "output_type": "execute_result"
    }
   ],
   "source": [
    "glove_model.most_similar('girl')"
   ]
  },
  {
   "cell_type": "code",
   "execution_count": 58,
   "id": "67485c94",
   "metadata": {},
   "outputs": [
    {
     "data": {
      "text/plain": [
       "[('man', 0.7805180549621582)]"
      ]
     },
     "execution_count": 58,
     "metadata": {},
     "output_type": "execute_result"
    }
   ],
   "source": [
    "# woman - girl + boy \n",
    "\n",
    "glove_model.most_similar(positive=['woman', 'boy'], negative=['girl'], topn=1)"
   ]
  },
  {
   "cell_type": "code",
   "execution_count": 61,
   "id": "7c637de7",
   "metadata": {},
   "outputs": [
    {
     "data": {
      "image/png": "[encoded data removed]",
      "text/plain": [
       "<Figure size 576x576 with 1 Axes>"
      ]
     },
     "metadata": {
      "needs_background": "light"
     },
     "output_type": "display_data"
    }
   ],
   "source": [
    "vocab = [\"boy\", \"girl\", \"man\", \"woman\"]\n",
    "\n",
    "def tsne_plot(model):\n",
    "    labels = []\n",
    "    wordvecs = []\n",
    "\n",
    "    for word in vocab:\n",
    "        wordvecs.append(model[word])\n",
    "        labels.append(word)\n",
    "    \n",
    "    tsne_model = TSNE(perplexity=3, n_components=2, init='pca', random_state=42)\n",
    "    coordinates = tsne_model.fit_transform(wordvecs)\n",
    "\n",
    "    x = []\n",
    "    y = []\n",
    "    for value in coordinates:\n",
    "        x.append(value[0])\n",
    "        y.append(value[1])\n",
    "        \n",
    "    plt.figure(figsize=(8,8)) \n",
    "    for i in range(len(x)):\n",
    "        plt.scatter(x[i],y[i])\n",
    "        plt.annotate(labels[i],\n",
    "                     xy=(x[i], y[i]),\n",
    "                     xytext=(2, 2),\n",
    "                     textcoords='offset points',\n",
    "                     ha='right',\n",
    "                     va='bottom')\n",
    "    plt.show()\n",
    "\n",
    "tsne_plot(glove_model)"
   ]
  },
  {
   "cell_type": "code",
   "execution_count": null,
   "id": "d9bda5c9",
   "metadata": {},
   "outputs": [],
   "source": []
  }
 ],
 "metadata": {
  "kernelspec": {
   "display_name": "Python 3",
   "language": "python",
   "name": "python3"
  },
  "language_info": {
   "codemirror_mode": {
    "name": "ipython",
    "version": 3
   },
   "file_extension": ".py",
   "mimetype": "text/x-python",
   "name": "python",
   "nbconvert_exporter": "python",
   "pygments_lexer": "ipython3",
   "version": "3.8.8"
  }
 },
 "nbformat": 4,
 "nbformat_minor": 5
}
